{
 "cells": [
  {
   "cell_type": "markdown",
   "id": "9511f91f",
   "metadata": {},
   "source": [
    "## 3. Import the required packages with their customary aliases as follows:\n",
    " import pandas as pd\n",
    " import numpy as np\n",
    " import matplotlib.pyplot as plt\n",
    " import seaborn as sns"
   ]
  },
  {
   "cell_type": "code",
   "execution_count": 635,
   "id": "77209ea4",
   "metadata": {},
   "outputs": [],
   "source": [
    " import pandas as pd\n",
    " import numpy as np\n",
    " import matplotlib.pyplot as plt\n",
    " import seaborn as sns"
   ]
  },
  {
   "cell_type": "markdown",
   "id": "42e39851",
   "metadata": {},
   "source": [
    "## 4. Use the %matplotlib inline magic command so that your plots show in the notebook without having to call plt.show() every time."
   ]
  },
  {
   "cell_type": "code",
   "execution_count": 636,
   "id": "23a3201a",
   "metadata": {},
   "outputs": [],
   "source": [
    "%matplotlib inline"
   ]
  },
  {
   "cell_type": "markdown",
   "id": "c032a894",
   "metadata": {},
   "source": [
    "## 5. Using the pandas read_csv() method, read the GDP dataset into your notebook as a DataFrame called gdp_df. Take a look at the first 6 rows."
   ]
  },
  {
   "cell_type": "code",
   "execution_count": 637,
   "id": "84da1b98",
   "metadata": {
    "scrolled": false
   },
   "outputs": [
    {
     "name": "stdout",
     "output_type": "stream",
     "text": [
      "  Country or Area  Year        Value  Value Footnotes\n",
      "0     Afghanistan  2019  2065.036398              NaN\n",
      "1     Afghanistan  2018  2033.779002              NaN\n",
      "2     Afghanistan  2017  2058.383832              NaN\n",
      "3     Afghanistan  2016  2057.062164              NaN\n",
      "4     Afghanistan  2015  2068.265904              NaN\n",
      "5     Afghanistan  2014  2102.385234              NaN\n",
      "6     Afghanistan  2013  2116.465454              NaN\n"
     ]
    }
   ],
   "source": [
    "gdp_df = pd.read_csv(\"../Data/gdp_percapita.csv\", nrows=6868)\n",
    "print(gdp_df[:7])"
   ]
  },
  {
   "cell_type": "markdown",
   "id": "07232238",
   "metadata": {},
   "source": [
    "## 6. Repeat for the internet use dataset. Call this DataFrame internet_df. Take a look at the first six rows."
   ]
  },
  {
   "cell_type": "code",
   "execution_count": 638,
   "id": "b2aeaffb",
   "metadata": {},
   "outputs": [
    {
     "name": "stdout",
     "output_type": "stream",
     "text": [
      "  Country or Area  Year     Value  Value Footnotes\n",
      "0     Afghanistan  2014  6.390000              NaN\n",
      "1     Afghanistan  2013  5.900000              NaN\n",
      "2     Afghanistan  2012  5.454545              NaN\n",
      "3     Afghanistan  2011  5.000000              NaN\n",
      "4     Afghanistan  2010  4.000000              NaN\n",
      "5     Afghanistan  2009  3.550000              NaN\n",
      "6     Afghanistan  2008  1.840000              NaN\n"
     ]
    }
   ],
   "source": [
    "internet_df = pd.read_csv(\"../Data/internet_use.csv\", nrows=4495)\n",
    "print(internet_df[:7])"
   ]
  },
  {
   "cell_type": "markdown",
   "id": "1f30ea28",
   "metadata": {},
   "source": [
    "## 7. Look at the shape of each DataFrame - how many rows? How many columns?"
   ]
  },
  {
   "cell_type": "code",
   "execution_count": 639,
   "id": "2636badb",
   "metadata": {},
   "outputs": [
    {
     "name": "stdout",
     "output_type": "stream",
     "text": [
      "(6868, 4)\n"
     ]
    }
   ],
   "source": [
    "gdp_shape = gdp_df.shape\n",
    "print(gdp_shape)"
   ]
  },
  {
   "cell_type": "code",
   "execution_count": 640,
   "id": "4a6c4d1f",
   "metadata": {},
   "outputs": [
    {
     "name": "stdout",
     "output_type": "stream",
     "text": [
      "(4495, 4)\n"
     ]
    }
   ],
   "source": [
    "internet_shape = internet_df.shape\n",
    "print(internet_shape)"
   ]
  },
  {
   "cell_type": "markdown",
   "id": "c93975ff",
   "metadata": {},
   "source": [
    "## 8. Take a look at the datatypes for the columns in each DataFrame"
   ]
  },
  {
   "cell_type": "markdown",
   "id": "58942086",
   "metadata": {},
   "source": [
    "#### This was recommended by Abi because it gives you more information and takes up less space (if I remember correctly)"
   ]
  },
  {
   "cell_type": "code",
   "execution_count": 641,
   "id": "2e8030fe",
   "metadata": {
    "scrolled": true
   },
   "outputs": [
    {
     "name": "stdout",
     "output_type": "stream",
     "text": [
      "<class 'pandas.core.frame.DataFrame'>\n",
      "RangeIndex: 6868 entries, 0 to 6867\n",
      "Data columns (total 4 columns):\n",
      " #   Column           Non-Null Count  Dtype  \n",
      "---  ------           --------------  -----  \n",
      " 0   Country or Area  6868 non-null   object \n",
      " 1   Year             6868 non-null   int64  \n",
      " 2   Value            6868 non-null   float64\n",
      " 3   Value Footnotes  1 non-null      float64\n",
      "dtypes: float64(2), int64(1), object(1)\n",
      "memory usage: 214.8+ KB\n"
     ]
    }
   ],
   "source": [
    "gdp_df.info()"
   ]
  },
  {
   "cell_type": "markdown",
   "id": "951510ba",
   "metadata": {},
   "source": [
    "#### This is another way to get datatypes for the columns in a dataframe. "
   ]
  },
  {
   "cell_type": "code",
   "execution_count": 642,
   "id": "1f888791",
   "metadata": {
    "scrolled": false
   },
   "outputs": [
    {
     "name": "stdout",
     "output_type": "stream",
     "text": [
      "Country or Area     object\n",
      "Year                 int64\n",
      "Value              float64\n",
      "Value Footnotes    float64\n",
      "dtype: object\n"
     ]
    }
   ],
   "source": [
    "print(gdp_df.dtypes)"
   ]
  },
  {
   "cell_type": "markdown",
   "id": "b65eaa80",
   "metadata": {},
   "source": [
    "## 9. Take a look at the last 10 rows of each DataFrame in turn."
   ]
  },
  {
   "cell_type": "code",
   "execution_count": 643,
   "id": "c53da841",
   "metadata": {},
   "outputs": [
    {
     "name": "stdout",
     "output_type": "stream",
     "text": [
      "     Country or Area  Year        Value  Value Footnotes\n",
      "6857        Zimbabwe  2000  3473.429801              NaN\n",
      "6858        Zimbabwe  1999  3600.849291              NaN\n",
      "6859        Zimbabwe  1998  3653.920016              NaN\n",
      "6860        Zimbabwe  1997  3580.048793              NaN\n",
      "6861        Zimbabwe  1996  3520.430146              NaN\n",
      "6862        Zimbabwe  1995  3226.413930              NaN\n",
      "6863        Zimbabwe  1994  3263.934978              NaN\n",
      "6864        Zimbabwe  1993  3033.504852              NaN\n",
      "6865        Zimbabwe  1992  3054.889178              NaN\n",
      "6866        Zimbabwe  1991  3426.598094              NaN\n"
     ]
    }
   ],
   "source": [
    "print(gdp_df[-11:-1])"
   ]
  },
  {
   "cell_type": "code",
   "execution_count": 644,
   "id": "4dd5f7b6",
   "metadata": {},
   "outputs": [
    {
     "name": "stdout",
     "output_type": "stream",
     "text": [
      "     Country or Area  Year     Value  Value Footnotes\n",
      "4484        Zimbabwe  2003  6.394786              NaN\n",
      "4485        Zimbabwe  2002  3.994356              NaN\n",
      "4486        Zimbabwe  2001  0.799846              NaN\n",
      "4487        Zimbabwe  2000  0.401434              NaN\n",
      "4488        Zimbabwe  1999  0.161676              NaN\n",
      "4489        Zimbabwe  1998  0.081648              NaN\n",
      "4490        Zimbabwe  1997  0.033080              NaN\n",
      "4491        Zimbabwe  1996  0.016790              NaN\n",
      "4492        Zimbabwe  1995  0.007684              NaN\n",
      "4493        Zimbabwe  1994  0.001739              NaN\n"
     ]
    }
   ],
   "source": [
    "print(internet_df[-11:-1])"
   ]
  },
  {
   "cell_type": "markdown",
   "id": "254ccb11",
   "metadata": {},
   "source": [
    "## 10. Drop the value footnotes column from both DataFrames. Check that this worked as expected."
   ]
  },
  {
   "cell_type": "code",
   "execution_count": 645,
   "id": "cb37e68d",
   "metadata": {},
   "outputs": [
    {
     "name": "stdout",
     "output_type": "stream",
     "text": [
      "     Country or Area  Year        Value\n",
      "0        Afghanistan  2019  2065.036398\n",
      "1        Afghanistan  2018  2033.779002\n",
      "2        Afghanistan  2017  2058.383832\n",
      "3        Afghanistan  2016  2057.062164\n",
      "4        Afghanistan  2015  2068.265904\n",
      "...              ...   ...          ...\n",
      "6863        Zimbabwe  1994  3263.934978\n",
      "6864        Zimbabwe  1993  3033.504852\n",
      "6865        Zimbabwe  1992  3054.889178\n",
      "6866        Zimbabwe  1991  3426.598094\n",
      "6867        Zimbabwe  1990  3324.348171\n",
      "\n",
      "[6868 rows x 3 columns]\n",
      "     Country or Area  Year     Value\n",
      "0        Afghanistan  2014  6.390000\n",
      "1        Afghanistan  2013  5.900000\n",
      "2        Afghanistan  2012  5.454545\n",
      "3        Afghanistan  2011  5.000000\n",
      "4        Afghanistan  2010  4.000000\n",
      "...              ...   ...       ...\n",
      "4490        Zimbabwe  1997  0.033080\n",
      "4491        Zimbabwe  1996  0.016790\n",
      "4492        Zimbabwe  1995  0.007684\n",
      "4493        Zimbabwe  1994  0.001739\n",
      "4494        Zimbabwe  1990  0.000000\n",
      "\n",
      "[4495 rows x 3 columns]\n"
     ]
    }
   ],
   "source": [
    "gdp_df.pop('Value Footnotes')\n",
    "internet_df.pop('Value Footnotes')\n",
    "\n",
    "print(gdp_df)\n",
    "print(internet_df)"
   ]
  },
  {
   "cell_type": "markdown",
   "id": "7203de59",
   "metadata": {},
   "source": [
    "## 11. Change the columns for the GDP Per Capita DataFrame to ‘Country’, ‘Year’, and ‘GDP_Per_Capita’."
   ]
  },
  {
   "cell_type": "code",
   "execution_count": 646,
   "id": "aef38ba3",
   "metadata": {},
   "outputs": [
    {
     "name": "stdout",
     "output_type": "stream",
     "text": [
      "     Country or Area  Year  GDP_Per_Capita\n",
      "0        Afghanistan  2019     2065.036398\n",
      "1        Afghanistan  2018     2033.779002\n",
      "2        Afghanistan  2017     2058.383832\n",
      "3        Afghanistan  2016     2057.062164\n",
      "4        Afghanistan  2015     2068.265904\n",
      "...              ...   ...             ...\n",
      "6863        Zimbabwe  1994     3263.934978\n",
      "6864        Zimbabwe  1993     3033.504852\n",
      "6865        Zimbabwe  1992     3054.889178\n",
      "6866        Zimbabwe  1991     3426.598094\n",
      "6867        Zimbabwe  1990     3324.348171\n",
      "\n",
      "[6868 rows x 3 columns]\n"
     ]
    }
   ],
   "source": [
    "gdp_df.rename({'Value':'GDP_Per_Capita'}, axis = 1, inplace = True)\n",
    "print(gdp_df)"
   ]
  },
  {
   "cell_type": "markdown",
   "id": "4b73acd7",
   "metadata": {},
   "source": [
    "## 12. Change the columns for the Internet Users DataFrame to ‘Country’, ‘Year’, and ‘Internet_Users_Pct’."
   ]
  },
  {
   "cell_type": "code",
   "execution_count": 647,
   "id": "8c49c826",
   "metadata": {},
   "outputs": [
    {
     "name": "stdout",
     "output_type": "stream",
     "text": [
      "     Country or Area  Year  Internet_Users_Pct\n",
      "0        Afghanistan  2014            6.390000\n",
      "1        Afghanistan  2013            5.900000\n",
      "2        Afghanistan  2012            5.454545\n",
      "3        Afghanistan  2011            5.000000\n",
      "4        Afghanistan  2010            4.000000\n",
      "...              ...   ...                 ...\n",
      "4490        Zimbabwe  1997            0.033080\n",
      "4491        Zimbabwe  1996            0.016790\n",
      "4492        Zimbabwe  1995            0.007684\n",
      "4493        Zimbabwe  1994            0.001739\n",
      "4494        Zimbabwe  1990            0.000000\n",
      "\n",
      "[4495 rows x 3 columns]\n"
     ]
    }
   ],
   "source": [
    "internet_df.rename({'Value':'Internet_Users_Pct'}, axis = 1, inplace = True)\n",
    "print(internet_df)"
   ]
  },
  {
   "cell_type": "markdown",
   "id": "32c73be4",
   "metadata": {},
   "source": [
    "## 13. Merge the two DataFrames to one. Merge all rows from each of the two DataFrames. Call the new DataFrame gdp_and_internet_use."
   ]
  },
  {
   "cell_type": "code",
   "execution_count": 648,
   "id": "ec91b1ce",
   "metadata": {},
   "outputs": [
    {
     "name": "stdout",
     "output_type": "stream",
     "text": [
      "     Country or Area  Year  GDP_Per_Capita  Internet_Users_Pct\n",
      "0        Afghanistan  2014     2102.385234            6.390000\n",
      "1        Afghanistan  2013     2116.465454            5.900000\n",
      "2        Afghanistan  2012     2075.491747            5.454545\n",
      "3        Afghanistan  2011     1904.559799            5.000000\n",
      "4        Afghanistan  2010     1957.029338            4.000000\n",
      "...              ...   ...             ...                 ...\n",
      "3453        Zimbabwe  1997     3580.048793            0.033080\n",
      "3454        Zimbabwe  1996     3520.430146            0.016790\n",
      "3455        Zimbabwe  1995     3226.413930            0.007684\n",
      "3456        Zimbabwe  1994     3263.934978            0.001739\n",
      "3457        Zimbabwe  1990     3324.348171            0.000000\n",
      "\n",
      "[3458 rows x 4 columns]\n"
     ]
    }
   ],
   "source": [
    "gdp_and_internet_use = pd.merge(gdp_df, internet_df)\n",
    "print(gdp_and_internet_use)"
   ]
  },
  {
   "cell_type": "markdown",
   "id": "775ca94a",
   "metadata": {},
   "source": [
    "## 14. Look at the first five rows of your new DataFrame to confirm it merged correctly."
   ]
  },
  {
   "cell_type": "code",
   "execution_count": 649,
   "id": "06c863ec",
   "metadata": {},
   "outputs": [
    {
     "data": {
      "text/html": [
       "<div>\n",
       "<style scoped>\n",
       "    .dataframe tbody tr th:only-of-type {\n",
       "        vertical-align: middle;\n",
       "    }\n",
       "\n",
       "    .dataframe tbody tr th {\n",
       "        vertical-align: top;\n",
       "    }\n",
       "\n",
       "    .dataframe thead th {\n",
       "        text-align: right;\n",
       "    }\n",
       "</style>\n",
       "<table border=\"1\" class=\"dataframe\">\n",
       "  <thead>\n",
       "    <tr style=\"text-align: right;\">\n",
       "      <th></th>\n",
       "      <th>Country or Area</th>\n",
       "      <th>Year</th>\n",
       "      <th>GDP_Per_Capita</th>\n",
       "      <th>Internet_Users_Pct</th>\n",
       "    </tr>\n",
       "  </thead>\n",
       "  <tbody>\n",
       "    <tr>\n",
       "      <th>0</th>\n",
       "      <td>Afghanistan</td>\n",
       "      <td>2014</td>\n",
       "      <td>2102.385234</td>\n",
       "      <td>6.390000</td>\n",
       "    </tr>\n",
       "    <tr>\n",
       "      <th>1</th>\n",
       "      <td>Afghanistan</td>\n",
       "      <td>2013</td>\n",
       "      <td>2116.465454</td>\n",
       "      <td>5.900000</td>\n",
       "    </tr>\n",
       "    <tr>\n",
       "      <th>2</th>\n",
       "      <td>Afghanistan</td>\n",
       "      <td>2012</td>\n",
       "      <td>2075.491747</td>\n",
       "      <td>5.454545</td>\n",
       "    </tr>\n",
       "    <tr>\n",
       "      <th>3</th>\n",
       "      <td>Afghanistan</td>\n",
       "      <td>2011</td>\n",
       "      <td>1904.559799</td>\n",
       "      <td>5.000000</td>\n",
       "    </tr>\n",
       "    <tr>\n",
       "      <th>4</th>\n",
       "      <td>Afghanistan</td>\n",
       "      <td>2010</td>\n",
       "      <td>1957.029338</td>\n",
       "      <td>4.000000</td>\n",
       "    </tr>\n",
       "  </tbody>\n",
       "</table>\n",
       "</div>"
      ],
      "text/plain": [
       "  Country or Area  Year  GDP_Per_Capita  Internet_Users_Pct\n",
       "0     Afghanistan  2014     2102.385234            6.390000\n",
       "1     Afghanistan  2013     2116.465454            5.900000\n",
       "2     Afghanistan  2012     2075.491747            5.454545\n",
       "3     Afghanistan  2011     1904.559799            5.000000\n",
       "4     Afghanistan  2010     1957.029338            4.000000"
      ]
     },
     "execution_count": 649,
     "metadata": {},
     "output_type": "execute_result"
    }
   ],
   "source": [
    "gdp_and_internet_use.head(5)"
   ]
  },
  {
   "cell_type": "markdown",
   "id": "7ce8ff57",
   "metadata": {},
   "source": [
    "## 15. Look at the last five rows to make sure the data is clean and as expected."
   ]
  },
  {
   "cell_type": "code",
   "execution_count": 650,
   "id": "9f90cf72",
   "metadata": {},
   "outputs": [
    {
     "data": {
      "text/html": [
       "<div>\n",
       "<style scoped>\n",
       "    .dataframe tbody tr th:only-of-type {\n",
       "        vertical-align: middle;\n",
       "    }\n",
       "\n",
       "    .dataframe tbody tr th {\n",
       "        vertical-align: top;\n",
       "    }\n",
       "\n",
       "    .dataframe thead th {\n",
       "        text-align: right;\n",
       "    }\n",
       "</style>\n",
       "<table border=\"1\" class=\"dataframe\">\n",
       "  <thead>\n",
       "    <tr style=\"text-align: right;\">\n",
       "      <th></th>\n",
       "      <th>Country or Area</th>\n",
       "      <th>Year</th>\n",
       "      <th>GDP_Per_Capita</th>\n",
       "      <th>Internet_Users_Pct</th>\n",
       "    </tr>\n",
       "  </thead>\n",
       "  <tbody>\n",
       "    <tr>\n",
       "      <th>3453</th>\n",
       "      <td>Zimbabwe</td>\n",
       "      <td>1997</td>\n",
       "      <td>3580.048793</td>\n",
       "      <td>0.033080</td>\n",
       "    </tr>\n",
       "    <tr>\n",
       "      <th>3454</th>\n",
       "      <td>Zimbabwe</td>\n",
       "      <td>1996</td>\n",
       "      <td>3520.430146</td>\n",
       "      <td>0.016790</td>\n",
       "    </tr>\n",
       "    <tr>\n",
       "      <th>3455</th>\n",
       "      <td>Zimbabwe</td>\n",
       "      <td>1995</td>\n",
       "      <td>3226.413930</td>\n",
       "      <td>0.007684</td>\n",
       "    </tr>\n",
       "    <tr>\n",
       "      <th>3456</th>\n",
       "      <td>Zimbabwe</td>\n",
       "      <td>1994</td>\n",
       "      <td>3263.934978</td>\n",
       "      <td>0.001739</td>\n",
       "    </tr>\n",
       "    <tr>\n",
       "      <th>3457</th>\n",
       "      <td>Zimbabwe</td>\n",
       "      <td>1990</td>\n",
       "      <td>3324.348171</td>\n",
       "      <td>0.000000</td>\n",
       "    </tr>\n",
       "  </tbody>\n",
       "</table>\n",
       "</div>"
      ],
      "text/plain": [
       "     Country or Area  Year  GDP_Per_Capita  Internet_Users_Pct\n",
       "3453        Zimbabwe  1997     3580.048793            0.033080\n",
       "3454        Zimbabwe  1996     3520.430146            0.016790\n",
       "3455        Zimbabwe  1995     3226.413930            0.007684\n",
       "3456        Zimbabwe  1994     3263.934978            0.001739\n",
       "3457        Zimbabwe  1990     3324.348171            0.000000"
      ]
     },
     "execution_count": 650,
     "metadata": {},
     "output_type": "execute_result"
    }
   ],
   "source": [
    "gdp_and_internet_use.tail(5)"
   ]
  },
  {
   "cell_type": "markdown",
   "id": "2eb1d1c8",
   "metadata": {},
   "source": [
    "## 16. Subset the combined DataFrame to keep only the data for 2004, 2009, and 2014. Check that this happened correctly."
   ]
  },
  {
   "cell_type": "code",
   "execution_count": 651,
   "id": "f35c53a7",
   "metadata": {
    "scrolled": true
   },
   "outputs": [
    {
     "name": "stdout",
     "output_type": "stream",
     "text": [
      "     Country or Area  Year  GDP_Per_Capita  Internet_Users_Pct\n",
      "0        Afghanistan  2014     2102.385234            6.390000\n",
      "5        Afghanistan  2009     1758.904043            3.550000\n",
      "10       Afghanistan  2004     1200.278256            0.105809\n",
      "13           Albania  2014    11623.866679           60.100000\n",
      "18           Albania  2009    10346.864199           41.200000\n",
      "...              ...   ...             ...                 ...\n",
      "3419          Zambia  2009     2917.516220            6.310000\n",
      "3424          Zambia  2004     2261.766537            2.013550\n",
      "3436        Zimbabwe  2014     2955.240287           19.890000\n",
      "3441        Zimbabwe  2009     1925.364381           11.360000\n",
      "3446        Zimbabwe  2004     2480.859342            6.564045\n",
      "\n",
      "[482 rows x 4 columns]\n"
     ]
    }
   ],
   "source": [
    "subset = gdp_and_internet_use[gdp_and_internet_use['Year'].isin([2004,2009,2014])]\n",
    "print(subset)"
   ]
  },
  {
   "cell_type": "markdown",
   "id": "99662d32",
   "metadata": {},
   "source": [
    "## 17. Create three new DataFrames, one for 2004, one for 2009, and one for 2014. Give them meaningful names that aren't too long."
   ]
  },
  {
   "cell_type": "code",
   "execution_count": 652,
   "id": "a0bae6f3",
   "metadata": {},
   "outputs": [
    {
     "name": "stdout",
     "output_type": "stream",
     "text": [
      "          Country or Area  Year  GDP_Per_Capita  Internet_Users_Pct\n",
      "10            Afghanistan  2004     1200.278256            0.105809\n",
      "23                Albania  2004     7604.838002            2.420388\n",
      "44                Algeria  2004    10058.435939            4.634475\n",
      "66                 Angola  2004     5593.241537            0.464815\n",
      "86    Antigua and Barbuda  2004    18745.681534           24.266544\n",
      "...                   ...   ...             ...                 ...\n",
      "3361              Uruguay  2004    12479.966871           17.063098\n",
      "3383           Uzbekistan  2004     3221.189333            2.593725\n",
      "3404              Vanuatu  2004     2792.356252            4.746603\n",
      "3424               Zambia  2004     2261.766537            2.013550\n",
      "3446             Zimbabwe  2004     2480.859342            6.564045\n",
      "\n",
      "[157 rows x 4 columns]\n",
      "          Country or Area  Year  GDP_Per_Capita  Internet_Users_Pct\n",
      "5             Afghanistan  2009     1758.904043            3.550000\n",
      "18                Albania  2009    10346.864199           41.200000\n",
      "39                Algeria  2009    10782.361398           11.230000\n",
      "61                 Angola  2009     7643.493749            6.000000\n",
      "81    Antigua and Barbuda  2009    20046.839017           42.000000\n",
      "...                   ...   ...             ...                 ...\n",
      "3356              Uruguay  2009    16477.823860           41.800000\n",
      "3378           Uzbekistan  2009     4446.863606           17.058216\n",
      "3399              Vanuatu  2009     3270.529800            7.500000\n",
      "3419               Zambia  2009     2917.516220            6.310000\n",
      "3441             Zimbabwe  2009     1925.364381           11.360000\n",
      "\n",
      "[162 rows x 4 columns]\n",
      "          Country or Area  Year  GDP_Per_Capita  Internet_Users_Pct\n",
      "0             Afghanistan  2014     2102.385234                6.39\n",
      "13                Albania  2014    11623.866679               60.10\n",
      "34                Algeria  2014    11512.705405               18.09\n",
      "56                 Angola  2014     8239.828837               21.26\n",
      "76    Antigua and Barbuda  2014    18104.241470               64.00\n",
      "...                   ...   ...             ...                 ...\n",
      "3351              Uruguay  2014    20582.168953               61.46\n",
      "3373           Uzbekistan  2014     5764.492705               43.55\n",
      "3394              Vanuatu  2014     3116.077025               18.80\n",
      "3414               Zambia  2014     3450.046561               17.34\n",
      "3436             Zimbabwe  2014     2955.240287               19.89\n",
      "\n",
      "[163 rows x 4 columns]\n"
     ]
    }
   ],
   "source": [
    "df_2004 = pd.DataFrame(gdp_and_internet_use[gdp_and_internet_use['Year'].isin([2004])])\n",
    "df_2009 = pd.DataFrame(gdp_and_internet_use[gdp_and_internet_use['Year'].isin([2009])])\n",
    "df_2014 = pd.DataFrame(gdp_and_internet_use[gdp_and_internet_use['Year'].isin([2014])])\n",
    "\n",
    "print(df_2004)\n",
    "print(df_2009)\n",
    "print(df_2014)"
   ]
  },
  {
   "cell_type": "markdown",
   "id": "abd4d8dc",
   "metadata": {},
   "source": [
    "## 18. Which country had the highest percentage of internet users in 2014? What was the percentage? (Try typing the first 3 letters of your DataFrame name and hitting the tab key for auto-complete options)."
   ]
  },
  {
   "cell_type": "markdown",
   "id": "2ce26d60",
   "metadata": {},
   "source": [
    "##### Below is a way to answer both 18 and 19 at the same time, but I think we were suppose to use min/max functions."
   ]
  },
  {
   "cell_type": "code",
   "execution_count": 653,
   "id": "841620c7",
   "metadata": {
    "scrolled": true
   },
   "outputs": [
    {
     "name": "stdout",
     "output_type": "stream",
     "text": [
      "     Country or Area  Year  GDP_Per_Capita  Internet_Users_Pct\n",
      "3087     Timor-Leste  2014     3264.568070                1.14\n",
      "540          Burundi  2014      886.235777                1.38\n",
      "1261          Guinea  2014     2061.760973                1.72\n",
      "2256           Niger  2014     1127.615541                1.95\n",
      "2728    Sierra Leone  2014     1997.511853                2.10\n",
      "...              ...   ...             ...                 ...\n",
      "1798      Luxembourg  2014   108760.916030               94.67\n",
      "854          Denmark  2014    52214.537753               95.99\n",
      "2296          Norway  2014    62589.373548               96.30\n",
      "372          Bermuda  2014    77361.104881               96.80\n",
      "1381         Iceland  2014    49652.149500               98.16\n",
      "\n",
      "[163 rows x 4 columns]\n"
     ]
    }
   ],
   "source": [
    "sorted_df = df_2014.sort_values(by='Internet_Users_Pct')\n",
    "print(sorted_df)"
   ]
  },
  {
   "cell_type": "markdown",
   "id": "650a8579",
   "metadata": {},
   "source": [
    "##### Below is the use of 'max' function"
   ]
  },
  {
   "cell_type": "code",
   "execution_count": 654,
   "id": "bd4c0dca",
   "metadata": {},
   "outputs": [
    {
     "name": "stdout",
     "output_type": "stream",
     "text": [
      "     Country or Area  Year  GDP_Per_Capita  Internet_Users_Pct\n",
      "1381         Iceland  2014      49652.1495               98.16\n"
     ]
    }
   ],
   "source": [
    "max_IU = max(df_2014['Internet_Users_Pct'])\n",
    "top_country = df_2014[df_2014['Internet_Users_Pct'].isin([max_IU])]\n",
    "print(top_country)"
   ]
  },
  {
   "cell_type": "markdown",
   "id": "c1c69cfb",
   "metadata": {},
   "source": [
    "## 19. Which country had the lowest percentage of internet users in 2014? What was the percentage?"
   ]
  },
  {
   "cell_type": "markdown",
   "id": "750413ae",
   "metadata": {},
   "source": [
    "#### Below is the use of the 'min' function"
   ]
  },
  {
   "cell_type": "code",
   "execution_count": 655,
   "id": "c53bf630",
   "metadata": {},
   "outputs": [
    {
     "name": "stdout",
     "output_type": "stream",
     "text": [
      "     Country or Area  Year  GDP_Per_Capita  Internet_Users_Pct\n",
      "3087     Timor-Leste  2014      3264.56807                1.14\n"
     ]
    }
   ],
   "source": [
    "min_IU = min(df_2014['Internet_Users_Pct'])\n",
    "bottom_country = df_2014[df_2014['Internet_Users_Pct'].isin([min_IU])]\n",
    "print(bottom_country)"
   ]
  },
  {
   "cell_type": "markdown",
   "id": "9aa19ba2",
   "metadata": {},
   "source": [
    "## 20. Repeat for 2004 and 2009."
   ]
  },
  {
   "cell_type": "markdown",
   "id": "7f403de1",
   "metadata": {},
   "source": [
    "#### 2004"
   ]
  },
  {
   "cell_type": "code",
   "execution_count": 656,
   "id": "75d6ccf6",
   "metadata": {},
   "outputs": [
    {
     "name": "stdout",
     "output_type": "stream",
     "text": [
      "               Country or Area  Year  GDP_Per_Capita  Internet_Users_Pct\n",
      "Bottom Country                                                          \n",
      "2132                   Myanmar  2004      1696.88176            0.024337\n",
      "            Country or Area  Year  GDP_Per_Capita  Internet_Users_Pct\n",
      "Top Country                                                          \n",
      "2985                 Sweden  2004    44496.023401               83.89\n"
     ]
    }
   ],
   "source": [
    "sorted_df = df_2004.sort_values(by='Internet_Users_Pct')\n",
    "index = sorted_df.index\n",
    "index.name = 'Bottom Country'\n",
    "print(sorted_df.head(1))\n",
    "\n",
    "index.name = 'Top Country'\n",
    "print(sorted_df.tail(1))"
   ]
  },
  {
   "cell_type": "markdown",
   "id": "9c45b452",
   "metadata": {},
   "source": [
    "#### 2009"
   ]
  },
  {
   "cell_type": "code",
   "execution_count": 657,
   "id": "fbe963d4",
   "metadata": {},
   "outputs": [
    {
     "name": "stdout",
     "output_type": "stream",
     "text": [
      "               Country or Area  Year  GDP_Per_Capita  Internet_Users_Pct\n",
      "Bottom Country                                                          \n",
      "3092               Timor-Leste  2009     2724.770973            0.185252\n",
      "            Country or Area  Year  GDP_Per_Capita  Internet_Users_Pct\n",
      "Top Country                                                          \n",
      "1386                Iceland  2009    48177.084123                93.0\n"
     ]
    }
   ],
   "source": [
    "sorted_df = df_2009.sort_values(by='Internet_Users_Pct')\n",
    "index = sorted_df.index\n",
    "index.name = 'Bottom Country'\n",
    "print(sorted_df.head(1))\n",
    "\n",
    "index.name = 'Top Country'\n",
    "print(sorted_df.tail(1))"
   ]
  },
  {
   "cell_type": "markdown",
   "id": "d1471b96",
   "metadata": {},
   "source": [
    "## 21. Which country had the highest gdp per capita in 2014? What was the gdp per capita?"
   ]
  },
  {
   "cell_type": "code",
   "execution_count": 658,
   "id": "abb89fa2",
   "metadata": {},
   "outputs": [
    {
     "name": "stdout",
     "output_type": "stream",
     "text": [
      "            Country or Area  Year  GDP_Per_Capita  Internet_Users_Pct\n",
      "Top Country                                                          \n",
      "1798             Luxembourg  2014    108760.91603               94.67\n"
     ]
    }
   ],
   "source": [
    "sorted_df = df_2014.sort_values(by='GDP_Per_Capita')\n",
    "index = sorted_df.index\n",
    "index.name = 'Top Country'\n",
    "print(sorted_df.tail(1))"
   ]
  },
  {
   "cell_type": "markdown",
   "id": "5a8a5c00",
   "metadata": {},
   "source": [
    "## 22. Which country had the lowest gdp per capita in 2014? What was the gdp per capita?"
   ]
  },
  {
   "cell_type": "code",
   "execution_count": 659,
   "id": "b069fa2c",
   "metadata": {},
   "outputs": [
    {
     "name": "stdout",
     "output_type": "stream",
     "text": [
      "               Country or Area  Year  GDP_Per_Capita  Internet_Users_Pct\n",
      "Bottom Country                                                          \n",
      "540                    Burundi  2014      886.235777                1.38\n"
     ]
    }
   ],
   "source": [
    "sorted_df = df_2014.sort_values(by='GDP_Per_Capita')\n",
    "index = sorted_df.index\n",
    "index.name = 'Bottom Country'\n",
    "print(sorted_df.head(1))"
   ]
  },
  {
   "cell_type": "markdown",
   "id": "58bc8f03",
   "metadata": {},
   "source": [
    "## 23. Create some scatterplots:"
   ]
  },
  {
   "cell_type": "markdown",
   "id": "631600a6",
   "metadata": {},
   "source": [
    "### a. 2004 Percent Using the Internet vs GDP Per Capita"
   ]
  },
  {
   "cell_type": "code",
   "execution_count": 660,
   "id": "96157a9d",
   "metadata": {},
   "outputs": [
    {
     "data": {
      "text/plain": [
       "([<matplotlib.axis.YTick at 0x170984051f0>,\n",
       "  <matplotlib.axis.YTick at 0x170984918e0>,\n",
       "  <matplotlib.axis.YTick at 0x17098447cd0>,\n",
       "  <matplotlib.axis.YTick at 0x170984fbb20>,\n",
       "  <matplotlib.axis.YTick at 0x170984f7af0>,\n",
       "  <matplotlib.axis.YTick at 0x17098500940>],\n",
       " [Text(0, 0, '0'),\n",
       "  Text(0, 20000, '$20k'),\n",
       "  Text(0, 40000, '$40k'),\n",
       "  Text(0, 60000, '$60k'),\n",
       "  Text(0, 80000, '$80k'),\n",
       "  Text(0, 100000, '$100k')])"
      ]
     },
     "execution_count": 660,
     "metadata": {},
     "output_type": "execute_result"
    },
    {
     "data": {
      "image/png": "[encoded data removed]",
      "text/plain": [
       "<Figure size 432x288 with 1 Axes>"
      ]
     },
     "metadata": {
      "needs_background": "light"
     },
     "output_type": "display_data"
    }
   ],
   "source": [
    "plt.scatter(df_2004['Internet_Users_Pct'],df_2004['GDP_Per_Capita'])\n",
    "plt.xlabel('Percentage of Internet Users')\n",
    "plt.ylabel('GDP Per Capita')\n",
    "plt.title('2004')\n",
    "\n",
    "tick_val = [0,20,40,60,80,100]\n",
    "tick_lab = ['0', '20%', '40%','60%','80%','100%']\n",
    "plt.xticks(tick_val,tick_lab)\n",
    "\n",
    "tick_val = [0,20000,40000,60000,80000,100000]\n",
    "tick_lab = ['0', '$20k', '$40k','$60k','$80k','$100k']\n",
    "plt.yticks(tick_val,tick_lab)"
   ]
  },
  {
   "cell_type": "markdown",
   "id": "93ae372c",
   "metadata": {},
   "source": [
    "### b. 2009 Percent Using the Internet vs GDP Per Capita"
   ]
  },
  {
   "cell_type": "code",
   "execution_count": 661,
   "id": "abf916ed",
   "metadata": {},
   "outputs": [
    {
     "data": {
      "text/plain": [
       "([<matplotlib.axis.YTick at 0x170985212b0>,\n",
       "  <matplotlib.axis.YTick at 0x1709851aaf0>,\n",
       "  <matplotlib.axis.YTick at 0x17098513a30>,\n",
       "  <matplotlib.axis.YTick at 0x1709854daf0>,\n",
       "  <matplotlib.axis.YTick at 0x17098553c10>,\n",
       "  <matplotlib.axis.YTick at 0x1709855a0d0>],\n",
       " [Text(0, 0, '0'),\n",
       "  Text(0, 20000, '$20k'),\n",
       "  Text(0, 40000, '$40k'),\n",
       "  Text(0, 60000, '$60k'),\n",
       "  Text(0, 80000, '$80k'),\n",
       "  Text(0, 100000, '$100k')])"
      ]
     },
     "execution_count": 661,
     "metadata": {},
     "output_type": "execute_result"
    },
    {
     "data": {
      "image/png": "[encoded data removed]",
      "text/plain": [
       "<Figure size 432x288 with 1 Axes>"
      ]
     },
     "metadata": {
      "needs_background": "light"
     },
     "output_type": "display_data"
    }
   ],
   "source": [
    "plt.scatter(df_2009['Internet_Users_Pct'],df_2009['GDP_Per_Capita'])\n",
    "plt.xlabel('Percentage of Internet Users')\n",
    "plt.ylabel('GDP Per Capita')\n",
    "plt.title('2009')\n",
    "\n",
    "tick_val = [0,20,40,60,80,100]\n",
    "tick_lab = ['0', '20%', '40%','60%','80%','100%']\n",
    "plt.xticks(tick_val,tick_lab)\n",
    "\n",
    "tick_val = [0,20000,40000,60000,80000,100000]\n",
    "tick_lab = ['0', '$20k', '$40k','$60k','$80k','$100k']\n",
    "plt.yticks(tick_val,tick_lab)"
   ]
  },
  {
   "cell_type": "markdown",
   "id": "deae42c2",
   "metadata": {},
   "source": [
    "### c. 2014 Percent Using the Internet vs GDP Per Capita"
   ]
  },
  {
   "cell_type": "code",
   "execution_count": 662,
   "id": "7fd99fac",
   "metadata": {},
   "outputs": [
    {
     "data": {
      "text/plain": [
       "([<matplotlib.axis.YTick at 0x170985832b0>,\n",
       "  <matplotlib.axis.YTick at 0x17098579af0>,\n",
       "  <matplotlib.axis.YTick at 0x17098566f10>,\n",
       "  <matplotlib.axis.YTick at 0x170985b4b50>,\n",
       "  <matplotlib.axis.YTick at 0x170985ba2e0>,\n",
       "  <matplotlib.axis.YTick at 0x170985baa30>],\n",
       " [Text(0, 0, '0'),\n",
       "  Text(0, 20000, '$20k'),\n",
       "  Text(0, 40000, '$40k'),\n",
       "  Text(0, 60000, '$60k'),\n",
       "  Text(0, 80000, '$80k'),\n",
       "  Text(0, 100000, '$100k')])"
      ]
     },
     "execution_count": 662,
     "metadata": {},
     "output_type": "execute_result"
    },
    {
     "data": {
      "image/png": "[encoded data removed]",
      "text/plain": [
       "<Figure size 432x288 with 1 Axes>"
      ]
     },
     "metadata": {
      "needs_background": "light"
     },
     "output_type": "display_data"
    }
   ],
   "source": [
    "plt.scatter(df_2014['Internet_Users_Pct'],df_2014['GDP_Per_Capita'])\n",
    "plt.xlabel('Percentage of Internet Users')\n",
    "plt.ylabel('GDP Per Capita')\n",
    "plt.title('2014')\n",
    "\n",
    "tick_val = [0,20,40,60,80,100]\n",
    "tick_lab = ['0', '20%', '40%','60%','80%','100%']\n",
    "plt.xticks(tick_val,tick_lab)\n",
    "\n",
    "tick_val = [0,20000,40000,60000,80000,100000]\n",
    "tick_lab = ['0', '$20k', '$40k','$60k','$80k','$100k']\n",
    "plt.yticks(tick_val,tick_lab)"
   ]
  },
  {
   "cell_type": "markdown",
   "id": "f8586623",
   "metadata": {},
   "source": [
    "## 24. Are there differences across years? What do the plots tell you about any relationship between these two variables? Enter your observations as a markdown cell."
   ]
  },
  {
   "cell_type": "markdown",
   "id": "2b9be287",
   "metadata": {},
   "source": [
    "DISCUSSION: There are differences throughout the years. There was a very long overall percentage of internet users in 2004 which makes sense has the internet was still relatively new. As the years increase, there is more distribution in precentage of internet use. It is difficult to tell when I have to scroll up and down to see each scatter plot but it does not appear as if there is much change in GDP per capita...other than it looks like 2014 may have more above the $20k mark then the previous years."
   ]
  },
  {
   "cell_type": "markdown",
   "id": "45e3666d",
   "metadata": {},
   "source": [
    "## 25. Look at the distribution of gdp per capita values for 2014. Is it unimodal?"
   ]
  },
  {
   "cell_type": "code",
   "execution_count": 663,
   "id": "de7bda45",
   "metadata": {},
   "outputs": [
    {
     "data": {
      "text/plain": [
       "[<matplotlib.lines.Line2D at 0x1709861b880>]"
      ]
     },
     "execution_count": 663,
     "metadata": {},
     "output_type": "execute_result"
    },
    {
     "data": {
      "image/png": "[encoded data removed]",
      "text/plain": [
       "<Figure size 432x288 with 1 Axes>"
      ]
     },
     "metadata": {
      "needs_background": "light"
     },
     "output_type": "display_data"
    }
   ],
   "source": [
    "plt.scatter(df_2014['Internet_Users_Pct'],df_2014['GDP_Per_Capita'], color = 'yellowgreen')\n",
    "plt.xlabel('Percentage of Internet Users')\n",
    "plt.ylabel('GDP Per Capita')\n",
    "plt.title('2014')\n",
    "\n",
    "tick_val = [0,20,40,60,80,100]\n",
    "tick_lab = ['0', '20%', '40%','60%','80%','100%']\n",
    "plt.xticks(tick_val,tick_lab)\n",
    "\n",
    "tick_val = [0,20000,40000,60000,80000,100000]\n",
    "tick_lab = ['0', '$20k', '$40k','$60k','$80k','$100k']\n",
    "plt.yticks(tick_val,tick_lab)\n",
    "\n",
    "x = np.array(df_2014['Internet_Users_Pct'])\n",
    "y = np.array(df_2014['GDP_Per_Capita'])\n",
    "\n",
    "z = np.polyfit(x, y, 1)\n",
    "p = np.poly1d(z)\n",
    "plt.plot(x, p(x))"
   ]
  },
  {
   "cell_type": "markdown",
   "id": "63c318ca",
   "metadata": {},
   "source": [
    "I would like to keep the code above but I misunderstood the question so the below is the work for question 25."
   ]
  },
  {
   "cell_type": "code",
   "execution_count": 664,
   "id": "e55330ab",
   "metadata": {},
   "outputs": [
    {
     "data": {
      "text/plain": [
       "[<matplotlib.lines.Line2D at 0x17096b95280>]"
      ]
     },
     "execution_count": 664,
     "metadata": {},
     "output_type": "execute_result"
    },
    {
     "data": {
      "image/png": "[encoded data removed]",
      "text/plain": [
       "<Figure size 432x288 with 1 Axes>"
      ]
     },
     "metadata": {
      "needs_background": "light"
     },
     "output_type": "display_data"
    }
   ],
   "source": [
    "plt.plot(df_2014['GDP_Per_Capita'], color = 'darkkhaki')"
   ]
  },
  {
   "cell_type": "markdown",
   "id": "fd27db39",
   "metadata": {},
   "source": [
    "##### ANSWER: No it is not unimodal because there are multiple peaks. "
   ]
  },
  {
   "cell_type": "markdown",
   "id": "da319169",
   "metadata": {},
   "source": [
    "## 26. Look at the distribution of Internet Use for 2014. Is it unimodal?"
   ]
  },
  {
   "cell_type": "code",
   "execution_count": 665,
   "id": "16bb0e76",
   "metadata": {},
   "outputs": [
    {
     "data": {
      "text/plain": [
       "[<matplotlib.lines.Line2D at 0x17086c8d610>]"
      ]
     },
     "execution_count": 665,
     "metadata": {},
     "output_type": "execute_result"
    },
    {
     "data": {
      "image/png": "[encoded data removed]",
      "text/plain": [
       "<Figure size 432x288 with 1 Axes>"
      ]
     },
     "metadata": {
      "needs_background": "light"
     },
     "output_type": "display_data"
    }
   ],
   "source": [
    "plt.plot(df_2014['Internet_Users_Pct'], color = 'orchid')"
   ]
  },
  {
   "cell_type": "markdown",
   "id": "cb0f89d5",
   "metadata": {},
   "source": [
    "##### ANSWER: No, it is also not a unimodal because it has multiple peaks and its valley are more extreme too "
   ]
  },
  {
   "cell_type": "markdown",
   "id": "a1b68779",
   "metadata": {},
   "source": [
    "## 27. What are the top 5 countries in terms of internet use in 2014?"
   ]
  },
  {
   "cell_type": "code",
   "execution_count": 666,
   "id": "a25b4d16",
   "metadata": {},
   "outputs": [
    {
     "name": "stdout",
     "output_type": "stream",
     "text": [
      "      Country or Area  Year  GDP_Per_Capita  Internet_Users_Pct\n",
      "Top 5                                                          \n",
      "1381          Iceland  2014    49652.149500               98.16\n",
      "372           Bermuda  2014    77361.104881               96.80\n",
      "2296           Norway  2014    62589.373548               96.30\n",
      "854           Denmark  2014    52214.537753               95.99\n",
      "1798       Luxembourg  2014   108760.916030               94.67\n"
     ]
    }
   ],
   "source": [
    "sorted_top_5 = df_2014.sort_values(by='Internet_Users_Pct', ascending = False)\n",
    "index = sorted_top_5.index\n",
    "index.name = 'Top 5'\n",
    "print(sorted_top_5.head(5))"
   ]
  },
  {
   "cell_type": "markdown",
   "id": "2812453b",
   "metadata": {},
   "source": [
    "## 28. Create a DataFrame called top_5_internet from the combined DataFrame that has all three years for the 5 countries that had the greatest 2014 internet usage. You should have 15 rows. Check that this is true."
   ]
  },
  {
   "cell_type": "code",
   "execution_count": 667,
   "id": "8cf7e982",
   "metadata": {},
   "outputs": [
    {
     "name": "stdout",
     "output_type": "stream",
     "text": [
      "     Country or Area  Year  GDP_Per_Capita  Internet_Users_Pct\n",
      "372          Bermuda  2014    77361.104881           96.800000\n",
      "377          Bermuda  2009    89961.982744           83.250000\n",
      "382          Bermuda  2004    90195.811033           60.990867\n",
      "854          Denmark  2014    52214.537753           95.990000\n",
      "859          Denmark  2009    50274.075696           86.840000\n",
      "864          Denmark  2004    50607.628971           80.930000\n",
      "1381         Iceland  2014    49652.149500           98.160000\n",
      "1386         Iceland  2009    48177.084123           93.000000\n",
      "1391         Iceland  2004    45145.545658           83.880000\n",
      "1798      Luxembourg  2014   108760.916030           94.670000\n",
      "1803      Luxembourg  2009   104932.811953           87.310000\n",
      "1808      Luxembourg  2004   102708.212547           65.880000\n",
      "2296          Norway  2014    62589.373548           96.300000\n",
      "2301          Norway  2009    61886.564498           92.080000\n",
      "2306          Norway  2004    60893.410993           77.690000\n"
     ]
    }
   ],
   "source": [
    "subset = gdp_and_internet_use[gdp_and_internet_use['Country or Area'].isin(['Iceland','Bermuda','Norway','Denmark','Luxembourg'])]\n",
    "subset2 = subset[subset['Year'].isin([2004,2009,2014])]\n",
    "top_5_internet = pd.DataFrame(subset2)\n",
    "print(top_5_internet)"
   ]
  },
  {
   "cell_type": "markdown",
   "id": "a38dd78e",
   "metadata": {},
   "source": [
    "## 29. Create a seaborn FacetGrid to show the internet usage trend across the years 2004, 2009, and 2014 for these 5 countries (those with the highest reported internet use in 2014). Which country had the greatest growth between 2004 and 2014?"
   ]
  },
  {
   "cell_type": "code",
   "execution_count": 668,
   "id": "e5f77ce6",
   "metadata": {},
   "outputs": [
    {
     "data": {
      "text/plain": [
       "<seaborn.axisgrid.FacetGrid at 0x17095a98d30>"
      ]
     },
     "execution_count": 668,
     "metadata": {},
     "output_type": "execute_result"
    },
    {
     "data": {
      "image/png": "[encoded data removed]",
      "text/plain": [
       "<Figure size 1178.12x216 with 5 Axes>"
      ]
     },
     "metadata": {
      "needs_background": "light"
     },
     "output_type": "display_data"
    }
   ],
   "source": [
    "g = sns.FacetGrid(top_5_internet, col = 'Country or Area', hue = 'Country or Area')\n",
    "g.map_dataframe(sns.lineplot, x = 'Year', y = 'Internet_Users_Pct', linewidth = 2.5)\n",
    "g.set_axis_labels('Year','Internet Usage (%)', weight = 'bold')\n",
    "g.set_titles(col_template='{col_name}', weight='bold', size ='16')\n",
    "plt.xticks([2004,2009,2014])\n",
    "plt.yticks([50,60,70,80,90,100])\n",
    "g.add_legend()"
   ]
  },
  {
   "cell_type": "markdown",
   "id": "cd68d574",
   "metadata": {},
   "source": [
    "Bermuda looks to have had the greatest growth between 2004 and 2014 (with Luxembourg a close second)"
   ]
  },
  {
   "cell_type": "markdown",
   "id": "f923620a",
   "metadata": {},
   "source": [
    "## 30. Repeat the steps above to look at the trend for the 5 countries with the lowest 2014 internet usage. Which country has consistently had the least internet use?"
   ]
  },
  {
   "cell_type": "code",
   "execution_count": 669,
   "id": "596d1790",
   "metadata": {},
   "outputs": [
    {
     "name": "stdout",
     "output_type": "stream",
     "text": [
      "         Country or Area  Year  GDP_Per_Capita  Internet_Users_Pct\n",
      "Bottom 5                                                          \n",
      "3087         Timor-Leste  2014     3264.568070                1.14\n",
      "540              Burundi  2014      886.235777                1.38\n",
      "1261              Guinea  2014     2061.760973                1.72\n",
      "2256               Niger  2014     1127.615541                1.95\n",
      "2728        Sierra Leone  2014     1997.511853                2.10\n",
      "                     Country or Area  Year  GDP_Per_Capita  Internet_Users_Pct\n",
      "Bottom 5: Time-Trend                                                          \n",
      "540                          Burundi  2014      886.235777            1.380000\n",
      "545                          Burundi  2009      831.564131            0.900000\n",
      "550                          Burundi  2004      817.460585            0.349060\n",
      "1261                          Guinea  2014     2061.760973            1.720000\n",
      "1266                          Guinea  2009     1825.576637            0.940000\n",
      "1271                          Guinea  2004     1778.079082            0.508819\n",
      "2256                           Niger  2014     1127.615541            1.950000\n",
      "2261                           Niger  2009      992.409977            0.760000\n",
      "2266                           Niger  2004      929.883920            0.189934\n",
      "2728                    Sierra Leone  2014     1997.511853            2.100000\n",
      "2733                    Sierra Leone  2009     1372.392285            0.260000\n",
      "2738                    Sierra Leone  2004     1237.630244            0.203008\n",
      "3087                     Timor-Leste  2014     3264.568070            1.140000\n",
      "3092                     Timor-Leste  2009     2724.770973            0.185252\n"
     ]
    },
    {
     "data": {
      "text/plain": [
       "<seaborn.axisgrid.FacetGrid at 0x17096777fd0>"
      ]
     },
     "execution_count": 669,
     "metadata": {},
     "output_type": "execute_result"
    },
    {
     "data": {
      "image/png": "[encoded data removed]",
      "text/plain": [
       "<Figure size 1178.62x216 with 5 Axes>"
      ]
     },
     "metadata": {
      "needs_background": "light"
     },
     "output_type": "display_data"
    }
   ],
   "source": [
    "sorted_bottom_5 = df_2014.sort_values(by='Internet_Users_Pct', ascending = True)\n",
    "index = sorted_bottom_5.index\n",
    "index.name = 'Bottom 5'\n",
    "bottom_five = pd.DataFrame(sorted_bottom_5.head(5))\n",
    "print(bottom_five)\n",
    "\n",
    "subset = gdp_and_internet_use[gdp_and_internet_use['Country or Area'].isin(['Timor-Leste','Burundi','Guinea','Niger','Sierra Leone'])]\n",
    "subset2 = subset[subset['Year'].isin([2004,2009,2014])]\n",
    "bottom_5_internet = pd.DataFrame(subset2)\n",
    "index = bottom_5_internet.index\n",
    "index.name = 'Bottom 5: Time-Trend'\n",
    "print(bottom_5_internet)\n",
    "\n",
    "g = sns.FacetGrid(bottom_5_internet, col = 'Country or Area', hue = 'Country or Area')\n",
    "g.map_dataframe(sns.lineplot, x = 'Year', y = 'Internet_Users_Pct', linewidth = 2.5)\n",
    "g.set_axis_labels('Year','Internet Usage (%)', weight = 'bold')\n",
    "g.set_titles(col_template='{col_name}', weight='bold', size ='16')\n",
    "plt.xticks([2004,2009,2014])\n",
    "plt.yticks([0,0.50,1.00,1.50,2.00,2.50])\n",
    "g.add_legend()"
   ]
  },
  {
   "cell_type": "markdown",
   "id": "7abd89ee",
   "metadata": {},
   "source": [
    "I would Burundi has had the lowest internet usage consistently overall the 3 years, because it had a very slight increase whereas the others seemed to have steeper inclines in 2009 going on to 2014."
   ]
  },
  {
   "cell_type": "markdown",
   "id": "3792362b",
   "metadata": {},
   "source": [
    "## 31. Find the top 5 countries for 2014 in terms of GDP per capita; create a DataFrame to look at 10-year trends (use 2004, 2009, 2014 to look at the 10-year trend) in gdp per capita for the 5 countries with the highest 2014 GDP per capita. Use a seaborn facet grid for this."
   ]
  },
  {
   "cell_type": "code",
   "execution_count": 670,
   "id": "fb0f2889",
   "metadata": {},
   "outputs": [
    {
     "name": "stdout",
     "output_type": "stream",
     "text": [
      "      Country or Area  Year  GDP_Per_Capita  Internet_Users_Pct\n",
      "Top 5                                                          \n",
      "1798       Luxembourg  2014   108760.916030               94.67\n",
      "2542            Qatar  2014    95578.416973               91.49\n",
      "2751        Singapore  2014    87808.663157               82.00\n",
      "372           Bermuda  2014    77361.104881               96.80\n",
      "627    Cayman Islands  2014    66207.447230               74.10\n",
      "                    Country or Area  Year  GDP_Per_Capita  Internet_Users_Pct\n",
      "Top 5: 10 yr. Trend                                                          \n",
      "372                         Bermuda  2014    77361.104881           96.800000\n",
      "377                         Bermuda  2009    89961.982744           83.250000\n",
      "382                         Bermuda  2004    90195.811033           60.990867\n",
      "627                  Cayman Islands  2014    66207.447230           74.100000\n",
      "632                  Cayman Islands  2009    70300.334857           64.500000\n",
      "1798                     Luxembourg  2014   108760.916030           94.670000\n",
      "1803                     Luxembourg  2009   104932.811953           87.310000\n",
      "1808                     Luxembourg  2004   102708.212547           65.880000\n",
      "2542                          Qatar  2014    95578.416973           91.490000\n",
      "2547                          Qatar  2009    89954.519993           53.100000\n",
      "2552                          Qatar  2004    93748.301216           20.701648\n",
      "2751                      Singapore  2014    87808.663157           82.000000\n",
      "2756                      Singapore  2009    69466.581746           69.000000\n",
      "2761                      Singapore  2004    63901.716368           62.000000\n"
     ]
    },
    {
     "data": {
      "text/plain": [
       "<seaborn.axisgrid.FacetGrid at 0x17097d72940>"
      ]
     },
     "execution_count": 670,
     "metadata": {},
     "output_type": "execute_result"
    },
    {
     "data": {
      "image/png": "[encoded data removed]",
      "text/plain": [
       "<Figure size 1195.25x216 with 5 Axes>"
      ]
     },
     "metadata": {
      "needs_background": "light"
     },
     "output_type": "display_data"
    }
   ],
   "source": [
    "sorted_top_5 = df_2014.sort_values(by='GDP_Per_Capita', ascending = False)\n",
    "index = sorted_top_5.index\n",
    "index.name = 'Top 5'\n",
    "top_five = pd.DataFrame(sorted_top_5.head(5))\n",
    "print(top_five)\n",
    "\n",
    "subset = gdp_and_internet_use[gdp_and_internet_use['Country or Area'].isin(['Luxembourg','Qatar','Singapore','Bermuda','Cayman Islands'])]\n",
    "subset2 = subset[subset['Year'].isin([2004,2009,2014])]\n",
    "top_5_gdp = pd.DataFrame(subset2)\n",
    "index = top_5_gdp.index\n",
    "index.name = 'Top 5: 10 yr. Trend'\n",
    "print(top_5_gdp)\n",
    "\n",
    "g = sns.FacetGrid(top_5_gdp, col = 'Country or Area', hue = 'Country or Area')\n",
    "g.map_dataframe(sns.lineplot, x = 'Year', y = 'GDP_Per_Capita', linewidth = 2.5)\n",
    "g.set_axis_labels('Year','GDP Per Capita ($)', weight = 'bold')\n",
    "g.set_titles(col_template='{col_name}', weight='bold', size ='16')\n",
    "\n",
    "plt.xticks([2004,2009,2014])\n",
    "tick_val = [60000, 80000, 100000, 120000]\n",
    "tick_lab = ['$60K', '$80K', '$100K','$120K']\n",
    "plt.yticks(tick_val,tick_lab)\n",
    "\n",
    "g.add_legend()"
   ]
  },
  {
   "cell_type": "markdown",
   "id": "18a7d570",
   "metadata": {},
   "source": [
    "## 32. Repeat this one more time to look at 10-year trend for the 5 countries for 2014 with the lowest GDP per capita."
   ]
  },
  {
   "cell_type": "code",
   "execution_count": 671,
   "id": "e305abd0",
   "metadata": {},
   "outputs": [
    {
     "name": "stdout",
     "output_type": "stream",
     "text": [
      "         Country or Area  Year  GDP_Per_Capita  Internet_Users_Pct\n",
      "Bottom 5                                                          \n",
      "540              Burundi  2014      886.235777                1.38\n",
      "1842              Malawi  2014     1027.208496                5.83\n",
      "2256               Niger  2014     1127.615541                1.95\n",
      "2102          Mozambique  2014     1217.090210                5.94\n",
      "3098                Togo  2014     1404.132938                5.70\n",
      "                       Country or Area  Year  GDP_Per_Capita  \\\n",
      "Bottom 5: 10 yr. Trend                                         \n",
      "540                            Burundi  2014      886.235777   \n",
      "545                            Burundi  2009      831.564131   \n",
      "550                            Burundi  2004      817.460585   \n",
      "1842                            Malawi  2014     1027.208496   \n",
      "1847                            Malawi  2009      932.867635   \n",
      "1852                            Malawi  2004      775.346132   \n",
      "2102                        Mozambique  2014     1217.090210   \n",
      "2107                        Mozambique  2009      991.323181   \n",
      "2112                        Mozambique  2004      792.727155   \n",
      "2256                             Niger  2014     1127.615541   \n",
      "2261                             Niger  2009      992.409977   \n",
      "2266                             Niger  2004      929.883920   \n",
      "3098                              Togo  2014     1404.132938   \n",
      "3103                              Togo  2009     1186.114587   \n",
      "3108                              Togo  2004     1276.676272   \n",
      "\n",
      "                        Internet_Users_Pct  \n",
      "Bottom 5: 10 yr. Trend                      \n",
      "540                               1.380000  \n",
      "545                               0.900000  \n",
      "550                               0.349060  \n",
      "1842                              5.830000  \n",
      "1847                              1.070000  \n",
      "1852                              0.347505  \n",
      "2102                              5.940000  \n",
      "2107                              2.680000  \n",
      "2112                              0.679448  \n",
      "2256                              1.950000  \n",
      "2261                              0.760000  \n",
      "2266                              0.189934  \n",
      "3098                              5.700000  \n",
      "3103                              2.600000  \n",
      "3108                              1.500000  \n"
     ]
    },
    {
     "data": {
      "text/plain": [
       "<seaborn.axisgrid.FacetGrid at 0x1709868e3a0>"
      ]
     },
     "execution_count": 671,
     "metadata": {},
     "output_type": "execute_result"
    },
    {
     "data": {
      "image/png": "[encoded data removed]",
      "text/plain": [
       "<Figure size 1179.5x216 with 5 Axes>"
      ]
     },
     "metadata": {
      "needs_background": "light"
     },
     "output_type": "display_data"
    }
   ],
   "source": [
    "sorted_bottom_5 = df_2014.sort_values(by='GDP_Per_Capita', ascending = True)\n",
    "index = sorted_bottom_5.index\n",
    "index.name = 'Bottom 5'\n",
    "bottom_five = pd.DataFrame(sorted_bottom_5.head(5))\n",
    "print(bottom_five)\n",
    "\n",
    "subset = gdp_and_internet_use[gdp_and_internet_use['Country or Area'].isin(['Burundi','Malawi','Niger','Mozambique','Togo'])]\n",
    "subset2 = subset[subset['Year'].isin([2004,2009,2014])]\n",
    "bottom_5_gdp = pd.DataFrame(subset2)\n",
    "index = bottom_5_gdp.index\n",
    "index.name = 'Bottom 5: 10 yr. Trend'\n",
    "print(bottom_5_gdp)\n",
    "\n",
    "g = sns.FacetGrid(bottom_5_gdp, col = 'Country or Area', hue = 'Country or Area')\n",
    "g.map_dataframe(sns.lineplot, x = 'Year', y = 'GDP_Per_Capita', linewidth = 2.5)\n",
    "g.set_axis_labels('Year','GDP Per Capita ($)', weight = 'bold')\n",
    "g.set_titles(col_template='{col_name}', weight='bold', size ='16')\n",
    "\n",
    "plt.xticks([2004,2009,2014])\n",
    "tick_val = [500, 750, 1000, 1250, 1500, 1750, 2000]\n",
    "tick_lab = ['$500', '$750', '$1K', '$1.25K','$1.5K','$1.75K', '$2K']\n",
    "plt.yticks(tick_val,tick_lab)\n",
    "\n",
    "g.add_legend()"
   ]
  },
  {
   "cell_type": "markdown",
   "id": "92b97b82",
   "metadata": {},
   "source": [
    "## 33. Is there anything surprising or unusual in any of these plots? Searching on the internet, can you find any possible explanations for unusual findings?"
   ]
  },
  {
   "cell_type": "markdown",
   "id": "3f64a8d9",
   "metadata": {},
   "source": [
    "I know that there was a global recession in 2009 with the 2008-2009 Financial Crisis. This would have made an impact. "
   ]
  },
  {
   "cell_type": "markdown",
   "id": "bde4b245",
   "metadata": {},
   "source": [
    "## 34. Explore additional data"
   ]
  },
  {
   "cell_type": "markdown",
   "id": "4d1b07cf",
   "metadata": {},
   "source": [
    "### I chose to explore UN data on literacy. "
   ]
  },
  {
   "cell_type": "markdown",
   "id": "e379ae69",
   "metadata": {},
   "source": [
    "##### Imported the data"
   ]
  },
  {
   "cell_type": "code",
   "execution_count": 672,
   "id": "b5544259",
   "metadata": {},
   "outputs": [
    {
     "name": "stdout",
     "output_type": "stream",
     "text": [
      "      Country or Area  Year   Area         Sex      Age    Literacy      Value\n",
      "0             Albania  2011  Total  Both Sexes   14-Oct       Total   233376.0\n",
      "1             Albania  2011  Total  Both Sexes   14-Oct    Literate   231653.0\n",
      "2             Albania  2011  Total  Both Sexes   14-Oct  Illiterate     1723.0\n",
      "3             Albania  2011  Total  Both Sexes     10 +       Total  2454948.0\n",
      "4             Albania  2011  Total  Both Sexes     10 +    Literate  2387409.0\n",
      "...               ...   ...    ...         ...      ...         ...        ...\n",
      "86398        Zimbabwe  2002  Urban      Female     85 +     Unknown       78.0\n",
      "86399        Zimbabwe  2002  Urban      Female  Unknown       Total     4850.0\n",
      "86400        Zimbabwe  2002  Urban      Female  Unknown    Literate     2476.0\n",
      "86401        Zimbabwe  2002  Urban      Female  Unknown  Illiterate     2071.0\n",
      "86402        Zimbabwe  2002  Urban      Female  Unknown     Unknown      303.0\n",
      "\n",
      "[86403 rows x 7 columns]\n"
     ]
    }
   ],
   "source": [
    "literacy_df = pd.read_csv(\"../Data/literacy.csv\", nrows=86403)\n",
    "print(literacy_df)"
   ]
  },
  {
   "cell_type": "markdown",
   "id": "afa4cb75",
   "metadata": {},
   "source": [
    "##### Learning the data types of the DataFrame"
   ]
  },
  {
   "cell_type": "code",
   "execution_count": 673,
   "id": "aa03edf6",
   "metadata": {},
   "outputs": [
    {
     "name": "stdout",
     "output_type": "stream",
     "text": [
      "<class 'pandas.core.frame.DataFrame'>\n",
      "RangeIndex: 86403 entries, 0 to 86402\n",
      "Data columns (total 7 columns):\n",
      " #   Column           Non-Null Count  Dtype  \n",
      "---  ------           --------------  -----  \n",
      " 0   Country or Area  86403 non-null  object \n",
      " 1   Year             86403 non-null  int64  \n",
      " 2   Area             86403 non-null  object \n",
      " 3   Sex              86403 non-null  object \n",
      " 4   Age              86403 non-null  object \n",
      " 5   Literacy         86403 non-null  object \n",
      " 6   Value            86403 non-null  float64\n",
      "dtypes: float64(1), int64(1), object(5)\n",
      "memory usage: 4.6+ MB\n"
     ]
    }
   ],
   "source": [
    "literacy_df.info()"
   ]
  },
  {
   "cell_type": "code",
   "execution_count": 674,
   "id": "ffde971a",
   "metadata": {},
   "outputs": [
    {
     "name": "stdout",
     "output_type": "stream",
     "text": [
      "(86403, 7)\n"
     ]
    }
   ],
   "source": [
    "literacy_shape = literacy_df.shape\n",
    "print(literacy_shape)"
   ]
  },
  {
   "cell_type": "markdown",
   "id": "b1ea3e62",
   "metadata": {},
   "source": [
    "##### Change Year to an 'Int64'"
   ]
  },
  {
   "cell_type": "code",
   "execution_count": 675,
   "id": "49c99f0a",
   "metadata": {
    "scrolled": true
   },
   "outputs": [
    {
     "data": {
      "text/plain": [
       "0        2011\n",
       "1        2011\n",
       "2        2011\n",
       "3        2011\n",
       "4        2011\n",
       "         ... \n",
       "86398    2002\n",
       "86399    2002\n",
       "86400    2002\n",
       "86401    2002\n",
       "86402    2002\n",
       "Name: Year, Length: 86403, dtype: int64"
      ]
     },
     "execution_count": 675,
     "metadata": {},
     "output_type": "execute_result"
    }
   ],
   "source": [
    "literacy_df['Year'].astype(np.int64)"
   ]
  },
  {
   "cell_type": "code",
   "execution_count": 676,
   "id": "51bca833",
   "metadata": {},
   "outputs": [
    {
     "name": "stdout",
     "output_type": "stream",
     "text": [
      "<class 'pandas.core.frame.DataFrame'>\n",
      "RangeIndex: 86403 entries, 0 to 86402\n",
      "Data columns (total 7 columns):\n",
      " #   Column           Non-Null Count  Dtype  \n",
      "---  ------           --------------  -----  \n",
      " 0   Country or Area  86403 non-null  object \n",
      " 1   Year             86403 non-null  int64  \n",
      " 2   Area             86403 non-null  object \n",
      " 3   Sex              86403 non-null  object \n",
      " 4   Age              86403 non-null  object \n",
      " 5   Literacy         86403 non-null  object \n",
      " 6   Value            86403 non-null  float64\n",
      "dtypes: float64(1), int64(1), object(5)\n",
      "memory usage: 4.6+ MB\n"
     ]
    }
   ],
   "source": [
    "literacy_df.info()"
   ]
  },
  {
   "cell_type": "markdown",
   "id": "35e499fe",
   "metadata": {},
   "source": [
    "##### Combining all ages and gender to the country so the information is better consolidated. "
   ]
  },
  {
   "cell_type": "code",
   "execution_count": 677,
   "id": "04b195e2",
   "metadata": {},
   "outputs": [],
   "source": [
    "lit_df = literacy_df.groupby(['Country or Area', 'Year', 'Literacy'], as_index = False)['Value'].sum()\n",
    "lit_df.rename(columns = {'Value':'Number of People'}, inplace = True)"
   ]
  },
  {
   "cell_type": "code",
   "execution_count": 678,
   "id": "e69b7420",
   "metadata": {},
   "outputs": [
    {
     "name": "stdout",
     "output_type": "stream",
     "text": [
      "<class 'pandas.core.frame.DataFrame'>\n",
      "RangeIndex: 754 entries, 0 to 753\n",
      "Data columns (total 4 columns):\n",
      " #   Column            Non-Null Count  Dtype \n",
      "---  ------            --------------  ----- \n",
      " 0   Country or Area   754 non-null    object\n",
      " 1   Year              754 non-null    int64 \n",
      " 2   Literacy          754 non-null    object\n",
      " 3   Number of People  754 non-null    int64 \n",
      "dtypes: int64(2), object(2)\n",
      "memory usage: 23.7+ KB\n"
     ]
    }
   ],
   "source": [
    "lit_df['Number of People'] = lit_df['Number of People'].astype(np.int64)\n",
    "lit_df.info()"
   ]
  },
  {
   "cell_type": "code",
   "execution_count": 679,
   "id": "35341675",
   "metadata": {
    "scrolled": false
   },
   "outputs": [
    {
     "name": "stdout",
     "output_type": "stream",
     "text": [
      "  Country or Area  Year    Literacy  Number of People\n",
      "0         Albania  2001  Illiterate            347928\n",
      "1         Albania  2001    Literate          21552984\n",
      "2         Albania  2001       Total          21900912\n",
      "3         Albania  2011  Illiterate            135078\n",
      "4         Albania  2011    Literate           4774818\n",
      "5         Albania  2011       Total           4909896\n"
     ]
    }
   ],
   "source": [
    "print(lit_df.head(6))"
   ]
  },
  {
   "cell_type": "markdown",
   "id": "57165eef",
   "metadata": {},
   "source": [
    "###### Double Checking Accuracy"
   ]
  },
  {
   "cell_type": "code",
   "execution_count": 680,
   "id": "dd60ef9f",
   "metadata": {},
   "outputs": [
    {
     "name": "stdout",
     "output_type": "stream",
     "text": [
      "    Country or Area  Year   Area         Sex      Age    Literacy      Value\n",
      "0           Albania  2011  Total  Both Sexes   14-Oct       Total   233376.0\n",
      "1           Albania  2011  Total  Both Sexes   14-Oct    Literate   231653.0\n",
      "2           Albania  2011  Total  Both Sexes   14-Oct  Illiterate     1723.0\n",
      "3           Albania  2011  Total  Both Sexes     10 +       Total  2454948.0\n",
      "4           Albania  2011  Total  Both Sexes     10 +    Literate  2387409.0\n",
      "..              ...   ...    ...         ...      ...         ...        ...\n",
      "478         Albania  2001  Rural      Female  70 - 74    Literate    15369.0\n",
      "479         Albania  2001  Rural      Female  70 - 74  Illiterate     2367.0\n",
      "480         Albania  2001  Rural      Female     75 +       Total    27836.0\n",
      "481         Albania  2001  Rural      Female     75 +    Literate    23312.0\n",
      "482         Albania  2001  Rural      Female     75 +  Illiterate     4524.0\n",
      "\n",
      "[483 rows x 7 columns]\n"
     ]
    }
   ],
   "source": [
    "Albania_df = pd.DataFrame(literacy_df[literacy_df['Country or Area'].isin(['Albania'])])\n",
    "print(Albania_df)"
   ]
  },
  {
   "cell_type": "code",
   "execution_count": 681,
   "id": "65478f36",
   "metadata": {},
   "outputs": [
    {
     "name": "stdout",
     "output_type": "stream",
     "text": [
      "53621616.0\n"
     ]
    }
   ],
   "source": [
    "print(Albania_df['Value'].sum())"
   ]
  },
  {
   "cell_type": "code",
   "execution_count": 682,
   "id": "b15ce551",
   "metadata": {
    "scrolled": true
   },
   "outputs": [
    {
     "name": "stdout",
     "output_type": "stream",
     "text": [
      "  Country or Area  Year    Literacy  Number of People\n",
      "0         Albania  2001  Illiterate            347928\n",
      "1         Albania  2001    Literate          21552984\n",
      "2         Albania  2001       Total          21900912\n",
      "3         Albania  2011  Illiterate            135078\n",
      "4         Albania  2011    Literate           4774818\n",
      "5         Albania  2011       Total           4909896\n"
     ]
    }
   ],
   "source": [
    "Al_sub = pd.DataFrame(lit_df[lit_df['Country or Area'].isin(['Albania'])])\n",
    "print(Al_sub)"
   ]
  },
  {
   "cell_type": "code",
   "execution_count": 683,
   "id": "87c6c441",
   "metadata": {},
   "outputs": [
    {
     "name": "stdout",
     "output_type": "stream",
     "text": [
      "53621616\n"
     ]
    }
   ],
   "source": [
    "print(Al_sub['Number of People'].sum())"
   ]
  },
  {
   "cell_type": "code",
   "execution_count": 684,
   "id": "e7821891",
   "metadata": {},
   "outputs": [
    {
     "data": {
      "text/plain": [
       "True"
      ]
     },
     "execution_count": 684,
     "metadata": {},
     "output_type": "execute_result"
    }
   ],
   "source": [
    "(Albania_df['Value'].sum())==(Al_sub['Number of People'].sum())"
   ]
  },
  {
   "cell_type": "markdown",
   "id": "238489b3",
   "metadata": {},
   "source": [
    "### CELEBRATE - it worked! Well the numbers are the same, so I assume that lit_df is accurate."
   ]
  },
  {
   "cell_type": "code",
   "execution_count": 685,
   "id": "9f1a1452",
   "metadata": {
    "scrolled": false
   },
   "outputs": [
    {
     "name": "stdout",
     "output_type": "stream",
     "text": [
      "    Country or Area  Year    Literacy  Number of People\n",
      "0           Albania  2001  Illiterate            347928\n",
      "1           Albania  2001    Literate          21552984\n",
      "2           Albania  2001       Total          21900912\n",
      "3           Albania  2011  Illiterate            135078\n",
      "4           Albania  2011    Literate           4774818\n",
      "..              ...   ...         ...               ...\n",
      "749          Zambia  2010       Total          67640728\n",
      "750        Zimbabwe  2002  Illiterate           2822108\n",
      "751        Zimbabwe  2002    Literate          43071240\n",
      "752        Zimbabwe  2002       Total          45942492\n",
      "753        Zimbabwe  2002     Unknown             49144\n",
      "\n",
      "[754 rows x 4 columns]\n"
     ]
    }
   ],
   "source": [
    "print(lit_df)"
   ]
  },
  {
   "cell_type": "code",
   "execution_count": 686,
   "id": "a5fd8a5c",
   "metadata": {
    "scrolled": true
   },
   "outputs": [
    {
     "name": "stdout",
     "output_type": "stream",
     "text": [
      "    Country or Area  Year    Literacy  Number of People\n",
      "0           Albania  2001  Illiterate            347928\n",
      "3           Albania  2011  Illiterate            135078\n",
      "6           Algeria  1998  Illiterate          26445000\n",
      "9           Algeria  2008  Illiterate          49479246\n",
      "13        Argentina  2001  Illiterate           3068108\n",
      "..              ...   ...         ...               ...\n",
      "736        Viet Nam  1999  Illiterate          42815344\n",
      "740        Viet Nam  2009  Illiterate          31235128\n",
      "744          Zambia  2000  Illiterate           1019732\n",
      "747          Zambia  2010  Illiterate          12484584\n",
      "750        Zimbabwe  2002  Illiterate           2822108\n",
      "\n",
      "[215 rows x 4 columns]\n"
     ]
    }
   ],
   "source": [
    "illiterate = pd.DataFrame(lit_df[lit_df['Literacy'].isin(['Illiterate'])])\n",
    "print(illiterate)"
   ]
  },
  {
   "cell_type": "code",
   "execution_count": 687,
   "id": "2f880dad",
   "metadata": {},
   "outputs": [
    {
     "name": "stdout",
     "output_type": "stream",
     "text": [
      "    Country or Area  Year  Literacy  Number of People\n",
      "1           Albania  2001  Literate          21552984\n",
      "4           Albania  2011  Literate           4774818\n",
      "7           Algeria  1998  Literate          69149290\n",
      "10          Algeria  2008  Literate         172101650\n",
      "14        Argentina  2001  Literate         114690432\n",
      "..              ...   ...       ...               ...\n",
      "737        Viet Nam  1999  Literate         437974984\n",
      "741        Viet Nam  2009  Literate         487052888\n",
      "745          Zambia  2000  Literate          15361410\n",
      "748          Zambia  2010  Literate          55156144\n",
      "751        Zimbabwe  2002  Literate          43071240\n",
      "\n",
      "[216 rows x 4 columns]\n"
     ]
    }
   ],
   "source": [
    "literate = pd.DataFrame(lit_df[lit_df['Literacy'].isin(['Literate'])])\n",
    "print(literate)"
   ]
  },
  {
   "cell_type": "code",
   "execution_count": 688,
   "id": "593eed8a",
   "metadata": {},
   "outputs": [
    {
     "data": {
      "text/plain": [
       "<matplotlib.collections.PathCollection at 0x17099c9ed00>"
      ]
     },
     "execution_count": 688,
     "metadata": {},
     "output_type": "execute_result"
    },
    {
     "data": {
      "image/png": "[encoded data removed]",
      "text/plain": [
       "<Figure size 432x288 with 1 Axes>"
      ]
     },
     "metadata": {
      "needs_background": "light"
     },
     "output_type": "display_data"
    }
   ],
   "source": [
    "plt.scatter(illiterate['Year'], illiterate['Number of People'])"
   ]
  },
  {
   "cell_type": "code",
   "execution_count": 689,
   "id": "3f4122b8",
   "metadata": {
    "scrolled": true
   },
   "outputs": [
    {
     "data": {
      "text/plain": [
       "<seaborn.axisgrid.FacetGrid at 0x17099ca8520>"
      ]
     },
     "execution_count": 689,
     "metadata": {},
     "output_type": "execute_result"
    },
    {
     "data": {
      "image/png": "[encoded data removed]",
      "text/plain": [
       "<Figure size 864x216 with 4 Axes>"
      ]
     },
     "metadata": {
      "needs_background": "light"
     },
     "output_type": "display_data"
    }
   ],
   "source": [
    "g = sns.FacetGrid(lit_df, col = 'Literacy', hue = 'Literacy')\n",
    "g.map_dataframe(sns.lineplot, x = 'Year', y = 'Number of People', linewidth = 2.5)\n",
    "g.set_axis_labels('Year','Number of People', weight = 'bold')\n",
    "g.set_titles(col_template='{col_name}', weight='bold', size ='16')"
   ]
  },
  {
   "cell_type": "code",
   "execution_count": 690,
   "id": "5dfda8a7",
   "metadata": {},
   "outputs": [
    {
     "name": "stdout",
     "output_type": "stream",
     "text": [
      "           Country or Area  Year  Literacy  Number of People\n",
      "Top 10                                                      \n",
      "134                  China  2010  Literate        8458379072\n",
      "131                  China  2000  Literate        6968740504\n",
      "267                  India  2001  Literate        4054320880\n",
      "275              Indonesia  2010  Literate        1412048768\n",
      "271              Indonesia  2005  Literate        1261774384\n",
      "89                  Brazil  2010  Literate        1179084648\n",
      "561     Russian Federation  2002  Literate        1035856288\n",
      "565     Russian Federation  2010  Literate         989656208\n",
      "86                  Brazil  2000  Literate         954626824\n",
      "497               Pakistan  2017  Literate         699883000\n",
      "423                 Mexico  2010  Literate         664799728\n"
     ]
    }
   ],
   "source": [
    "sorted_top_10 = literate.sort_values(by='Number of People', ascending = False)\n",
    "index = sorted_top_10.index\n",
    "index.name = 'Top 10'\n",
    "top_ten = pd.DataFrame(sorted_top_10.head(11))\n",
    "print(top_ten)"
   ]
  },
  {
   "cell_type": "code",
   "execution_count": 691,
   "id": "e63f49a2",
   "metadata": {
    "scrolled": true
   },
   "outputs": [
    {
     "data": {
      "text/plain": [
       "<seaborn.axisgrid.FacetGrid at 0x17099a1fd30>"
      ]
     },
     "execution_count": 691,
     "metadata": {},
     "output_type": "execute_result"
    },
    {
     "data": {
      "image/png": "[encoded data removed]",
      "text/plain": [
       "<Figure size 946.375x216 with 4 Axes>"
      ]
     },
     "metadata": {
      "needs_background": "light"
     },
     "output_type": "display_data"
    }
   ],
   "source": [
    "g = sns.FacetGrid(lit_df, col = 'Literacy', hue = 'Literacy')\n",
    "g.map_dataframe(sns.scatterplot, x = 'Year', y = 'Number of People', linewidth = 2.5)\n",
    "g.set_axis_labels('Year','Number of People', weight = 'bold')\n",
    "g.set_titles(col_template='{col_name}', weight='bold', size ='16')\n",
    "g.add_legend()"
   ]
  },
  {
   "cell_type": "code",
   "execution_count": 692,
   "id": "8ed9a90c",
   "metadata": {},
   "outputs": [
    {
     "name": "stdout",
     "output_type": "stream",
     "text": [
      "    Country or Area  Year    Literacy  Number of People\n",
      "0           Albania  2001  Illiterate            347928\n",
      "1           Albania  2001    Literate          21552984\n",
      "2           Albania  2001       Total          21900912\n",
      "3           Albania  2011  Illiterate            135078\n",
      "4           Albania  2011    Literate           4774818\n",
      "..              ...   ...         ...               ...\n",
      "749          Zambia  2010       Total          67640728\n",
      "750        Zimbabwe  2002  Illiterate           2822108\n",
      "751        Zimbabwe  2002    Literate          43071240\n",
      "752        Zimbabwe  2002       Total          45942492\n",
      "753        Zimbabwe  2002     Unknown             49144\n",
      "\n",
      "[754 rows x 4 columns]\n"
     ]
    }
   ],
   "source": [
    "print(lit_df)"
   ]
  },
  {
   "cell_type": "code",
   "execution_count": 693,
   "id": "e4ce0be0",
   "metadata": {
    "scrolled": true
   },
   "outputs": [
    {
     "name": "stdout",
     "output_type": "stream",
     "text": [
      "Literacy Country or Area  Year  Illiterate     Literate        Total\n",
      "0                Albania  2001    347928.0   21552984.0   21900912.0\n",
      "1                Albania  2011    135078.0    4774818.0    4909896.0\n",
      "2                Algeria  1998  26445000.0   69149290.0   95594290.0\n",
      "3                Algeria  2008  49479246.0  172101650.0  222292194.0\n",
      "4              Argentina  2001   3068108.0  114690432.0  117758540.0\n",
      "..                   ...   ...         ...          ...          ...\n",
      "214             Viet Nam  1999  42815344.0  437974984.0  480942152.0\n",
      "215             Viet Nam  2009  31235128.0  487052888.0  518829904.0\n",
      "216               Zambia  2000   1019732.0   15361410.0   16381142.0\n",
      "217               Zambia  2010  12484584.0   55156144.0   67640728.0\n",
      "218             Zimbabwe  2002   2822108.0   43071240.0   45942492.0\n",
      "\n",
      "[219 rows x 5 columns]\n"
     ]
    }
   ],
   "source": [
    "piv_lit = lit_df.pivot(index=['Country or Area','Year'], columns='Literacy', values='Number of People')\\\n",
    "            .reset_index()\n",
    "piv_lit.pop('Unknown')\n",
    "piv_lit_df = pd.DataFrame(piv_lit) \n",
    "print(piv_lit_df)"
   ]
  },
  {
   "cell_type": "code",
   "execution_count": 694,
   "id": "ce521e06",
   "metadata": {},
   "outputs": [
    {
     "name": "stdout",
     "output_type": "stream",
     "text": [
      "<class 'pandas.core.frame.DataFrame'>\n",
      "RangeIndex: 219 entries, 0 to 218\n",
      "Data columns (total 5 columns):\n",
      " #   Column           Non-Null Count  Dtype  \n",
      "---  ------           --------------  -----  \n",
      " 0   Country or Area  219 non-null    object \n",
      " 1   Year             219 non-null    int64  \n",
      " 2   Illiterate       215 non-null    float64\n",
      " 3   Literate         216 non-null    float64\n",
      " 4   Total            217 non-null    float64\n",
      "dtypes: float64(3), int64(1), object(1)\n",
      "memory usage: 8.7+ KB\n"
     ]
    }
   ],
   "source": [
    "piv_lit_df.info()"
   ]
  },
  {
   "cell_type": "code",
   "execution_count": 710,
   "id": "bc98472b",
   "metadata": {
    "scrolled": true
   },
   "outputs": [],
   "source": [
    "piv_lit_df['Illiterate'] = piv_lit_df['Illiterate'].replace(np.nan, 0)\n",
    "piv_lit_df['Illiterate'] = piv_lit_df['Illiterate'].astype(np.int64)"
   ]
  },
  {
   "cell_type": "code",
   "execution_count": 713,
   "id": "304ccc72",
   "metadata": {},
   "outputs": [],
   "source": [
    "piv_lit_df['Literate'] = piv_lit_df['Literate'].replace(np.nan, 0)\n",
    "piv_lit_df['Literate'] = piv_lit_df['Literate'].astype(np.int64)"
   ]
  },
  {
   "cell_type": "code",
   "execution_count": 712,
   "id": "13058939",
   "metadata": {},
   "outputs": [],
   "source": [
    "piv_lit_df['Total'] = piv_lit_df['Total'].replace(np.nan, 0)\n",
    "piv_lit_df['Total'] = piv_lit_df['Total'].astype(np.int64)"
   ]
  },
  {
   "cell_type": "code",
   "execution_count": 714,
   "id": "0a0371b0",
   "metadata": {
    "scrolled": true
   },
   "outputs": [
    {
     "name": "stdout",
     "output_type": "stream",
     "text": [
      "Literacy Country or Area  Year  Illiterate   Literate      Total\n",
      "0                Albania  2001      347928   21552984   21900912\n",
      "1                Albania  2011      135078    4774818    4909896\n",
      "2                Algeria  1998    26445000   69149290   95594290\n",
      "3                Algeria  2008    49479246  172101650  222292194\n",
      "4              Argentina  2001     3068108  114690432  117758540\n",
      "..                   ...   ...         ...        ...        ...\n",
      "214             Viet Nam  1999    42815344  437974984  480942152\n",
      "215             Viet Nam  2009    31235128  487052888  518829904\n",
      "216               Zambia  2000     1019732   15361410   16381142\n",
      "217               Zambia  2010    12484584   55156144   67640728\n",
      "218             Zimbabwe  2002     2822108   43071240   45942492\n",
      "\n",
      "[219 rows x 5 columns]\n"
     ]
    }
   ],
   "source": [
    "print(piv_lit_df)"
   ]
  },
  {
   "cell_type": "code",
   "execution_count": 715,
   "id": "f82531a3",
   "metadata": {},
   "outputs": [
    {
     "name": "stdout",
     "output_type": "stream",
     "text": [
      "<class 'pandas.core.frame.DataFrame'>\n",
      "RangeIndex: 219 entries, 0 to 218\n",
      "Data columns (total 5 columns):\n",
      " #   Column           Non-Null Count  Dtype \n",
      "---  ------           --------------  ----- \n",
      " 0   Country or Area  219 non-null    object\n",
      " 1   Year             219 non-null    int64 \n",
      " 2   Illiterate       219 non-null    int64 \n",
      " 3   Literate         219 non-null    int64 \n",
      " 4   Total            219 non-null    int64 \n",
      "dtypes: int64(4), object(1)\n",
      "memory usage: 8.7+ KB\n"
     ]
    }
   ],
   "source": [
    "piv_lit_df.info()"
   ]
  },
  {
   "cell_type": "code",
   "execution_count": 721,
   "id": "225ea307",
   "metadata": {},
   "outputs": [
    {
     "name": "stdout",
     "output_type": "stream",
     "text": [
      "Literacy Country or Area  Year  Illiterate   Literate      Total  \\\n",
      "0                Albania  2001      347928   21552984   21900912   \n",
      "1                Albania  2011      135078    4774818    4909896   \n",
      "2                Algeria  1998    26445000   69149290   95594290   \n",
      "3                Algeria  2008    49479246  172101650  222292194   \n",
      "4              Argentina  2001     3068108  114690432  117758540   \n",
      "..                   ...   ...         ...        ...        ...   \n",
      "214             Viet Nam  1999    42815344  437974984  480942152   \n",
      "215             Viet Nam  2009    31235128  487052888  518829904   \n",
      "216               Zambia  2000     1019732   15361410   16381142   \n",
      "217               Zambia  2010    12484584   55156144   67640728   \n",
      "218             Zimbabwe  2002     2822108   43071240   45942492   \n",
      "\n",
      "Literacy  Illiterate %  Literate %  \n",
      "0                 1.59       98.41  \n",
      "1                 2.75       97.25  \n",
      "2                27.66       72.34  \n",
      "3                22.26       77.42  \n",
      "4                 2.61       97.39  \n",
      "..                 ...         ...  \n",
      "214               8.90       91.07  \n",
      "215               6.02       93.88  \n",
      "216               6.23       93.77  \n",
      "217              18.46       81.54  \n",
      "218               6.14       93.75  \n",
      "\n",
      "[219 rows x 7 columns]\n"
     ]
    }
   ],
   "source": [
    "piv_lit_df['Illiterate %'] = round((piv_lit_df['Illiterate']/piv_lit_df['Total'])*100,2)\n",
    "piv_lit_df['Literate %'] = round((piv_lit_df['Literate']/piv_lit_df['Total'])*100,2)\n",
    "print(piv_lit_df)"
   ]
  },
  {
   "cell_type": "markdown",
   "id": "9f3af4b1",
   "metadata": {},
   "source": [
    "## Merging the data to GDP_and_Internet_Use. Naming it: GDP_Internet_Literacy"
   ]
  },
  {
   "cell_type": "code",
   "execution_count": 697,
   "id": "5df96190",
   "metadata": {},
   "outputs": [
    {
     "ename": "NameError",
     "evalue": "name 'TBD' is not defined",
     "output_type": "error",
     "traceback": [
      "\u001b[1;31m---------------------------------------------------------------------------\u001b[0m",
      "\u001b[1;31mNameError\u001b[0m                                 Traceback (most recent call last)",
      "Input \u001b[1;32mIn [697]\u001b[0m, in \u001b[0;36m<cell line: 1>\u001b[1;34m()\u001b[0m\n\u001b[1;32m----> 1\u001b[0m gdp_internet_literacy \u001b[38;5;241m=\u001b[39m \u001b[43mTBD\u001b[49m\n\u001b[0;32m      3\u001b[0m gdp_and_internet_use \u001b[38;5;241m=\u001b[39m pd\u001b[38;5;241m.\u001b[39mmerge(gdp_df, internet_df)\n\u001b[0;32m      4\u001b[0m \u001b[38;5;28mprint\u001b[39m(gdp_and_internet_use)\n",
      "\u001b[1;31mNameError\u001b[0m: name 'TBD' is not defined"
     ]
    }
   ],
   "source": [
    "gdp_internet_literacy = TBD\n",
    "\n",
    "gdp_and_internet_use = pd.merge(gdp_df, internet_df)\n",
    "print(gdp_and_internet_use)"
   ]
  }
 ],
 "metadata": {
  "kernelspec": {
   "display_name": "Python 3 (ipykernel)",
   "language": "python",
   "name": "python3"
  },
  "language_info": {
   "codemirror_mode": {
    "name": "ipython",
    "version": 3
   },
   "file_extension": ".py",
   "mimetype": "text/x-python",
   "name": "python",
   "nbconvert_exporter": "python",
   "pygments_lexer": "ipython3",
   "version": "3.9.12"
  }
 },
 "nbformat": 4,
 "nbformat_minor": 5
}
