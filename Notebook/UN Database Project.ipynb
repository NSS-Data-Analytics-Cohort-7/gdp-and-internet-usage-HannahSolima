{
 "cells": [
  {
   "cell_type": "markdown",
   "id": "9511f91f",
   "metadata": {},
   "source": [
    "## 3. Import the required packages with their customary aliases as follows:\n",
    " import pandas as pd\n",
    " import numpy as np\n",
    " import matplotlib.pyplot as plt\n",
    " import seaborn as sns"
   ]
  },
  {
   "cell_type": "code",
   "execution_count": 2,
   "id": "77209ea4",
   "metadata": {},
   "outputs": [],
   "source": [
    " import pandas as pd\n",
    " import numpy as np\n",
    " import matplotlib.pyplot as plt\n",
    " import seaborn as sns"
   ]
  },
  {
   "cell_type": "markdown",
   "id": "42e39851",
   "metadata": {},
   "source": [
    "## 4. Use the %matplotlib inline magic command so that your plots show in the notebook without having to call plt.show() every time."
   ]
  },
  {
   "cell_type": "code",
   "execution_count": 4,
   "id": "23a3201a",
   "metadata": {},
   "outputs": [],
   "source": [
    "%matplotlib inline"
   ]
  },
  {
   "cell_type": "markdown",
   "id": "c032a894",
   "metadata": {},
   "source": [
    "## 5. Using the pandas read_csv() method, read the GDP dataset into your notebook as a DataFrame called gdp_df. Take a look at the first 6 rows."
   ]
  },
  {
   "cell_type": "code",
   "execution_count": 24,
   "id": "84da1b98",
   "metadata": {
    "scrolled": false
   },
   "outputs": [
    {
     "name": "stdout",
     "output_type": "stream",
     "text": [
      "  Country or Area  Year        Value  Value Footnotes\n",
      "0     Afghanistan  2019  2065.036398              NaN\n",
      "1     Afghanistan  2018  2033.779002              NaN\n",
      "2     Afghanistan  2017  2058.383832              NaN\n",
      "3     Afghanistan  2016  2057.062164              NaN\n",
      "4     Afghanistan  2015  2068.265904              NaN\n",
      "5     Afghanistan  2014  2102.385234              NaN\n",
      "6     Afghanistan  2013  2116.465454              NaN\n"
     ]
    }
   ],
   "source": [
    "gdp_df = pd.read_csv(\"../Data/gdp_percapita.csv\", nrows=6868)\n",
    "print(gdp_df[:7])"
   ]
  },
  {
   "cell_type": "markdown",
   "id": "07232238",
   "metadata": {},
   "source": [
    "## 6. Repeat for the internet use dataset. Call this DataFrame internet_df. Take a look at the first six rows."
   ]
  },
  {
   "cell_type": "code",
   "execution_count": 23,
   "id": "b2aeaffb",
   "metadata": {},
   "outputs": [
    {
     "name": "stdout",
     "output_type": "stream",
     "text": [
      "  Country or Area  Year     Value  Value Footnotes\n",
      "0     Afghanistan  2014  6.390000              NaN\n",
      "1     Afghanistan  2013  5.900000              NaN\n",
      "2     Afghanistan  2012  5.454545              NaN\n",
      "3     Afghanistan  2011  5.000000              NaN\n",
      "4     Afghanistan  2010  4.000000              NaN\n",
      "5     Afghanistan  2009  3.550000              NaN\n",
      "6     Afghanistan  2008  1.840000              NaN\n"
     ]
    }
   ],
   "source": [
    "internet_df = pd.read_csv(\"../Data/internet_use.csv\", nrows=4495)\n",
    "print(internet_df[:7])"
   ]
  },
  {
   "cell_type": "markdown",
   "id": "1f30ea28",
   "metadata": {},
   "source": [
    "## 7. Look at the shape of each DataFrame - how many rows? How many columns?"
   ]
  },
  {
   "cell_type": "code",
   "execution_count": 31,
   "id": "2636badb",
   "metadata": {},
   "outputs": [
    {
     "name": "stdout",
     "output_type": "stream",
     "text": [
      "(6868, 4)\n"
     ]
    }
   ],
   "source": [
    "gdp_shape = gdp_df.shape\n",
    "print(gdp_shape)"
   ]
  },
  {
   "cell_type": "code",
   "execution_count": 32,
   "id": "4a6c4d1f",
   "metadata": {},
   "outputs": [
    {
     "name": "stdout",
     "output_type": "stream",
     "text": [
      "(4495, 4)\n"
     ]
    }
   ],
   "source": [
    "internet_shape = internet_df.shape\n",
    "print(internet_shape)"
   ]
  },
  {
   "cell_type": "markdown",
   "id": "c93975ff",
   "metadata": {},
   "source": [
    "## 8. Take a look at the datatypes for the columns in each DataFrame"
   ]
  },
  {
   "cell_type": "markdown",
   "id": "58942086",
   "metadata": {},
   "source": [
    "#### This was recommended by Abi because it gives you more information and takes up less space (if I remember correctly)"
   ]
  },
  {
   "cell_type": "code",
   "execution_count": 64,
   "id": "2e8030fe",
   "metadata": {
    "scrolled": true
   },
   "outputs": [
    {
     "name": "stdout",
     "output_type": "stream",
     "text": [
      "<class 'pandas.core.frame.DataFrame'>\n",
      "RangeIndex: 6868 entries, 0 to 6867\n",
      "Data columns (total 4 columns):\n",
      " #   Column           Non-Null Count  Dtype  \n",
      "---  ------           --------------  -----  \n",
      " 0   Country or Area  6868 non-null   object \n",
      " 1   Year             6868 non-null   int64  \n",
      " 2   Value            6868 non-null   float64\n",
      " 3   Value Footnotes  1 non-null      float64\n",
      "dtypes: float64(2), int64(1), object(1)\n",
      "memory usage: 214.8+ KB\n"
     ]
    }
   ],
   "source": [
    "gdp_df.info()"
   ]
  },
  {
   "cell_type": "markdown",
   "id": "951510ba",
   "metadata": {},
   "source": [
    "#### This is another way to get datatypes for the columns in a dataframe. "
   ]
  },
  {
   "cell_type": "code",
   "execution_count": 66,
   "id": "1f888791",
   "metadata": {
    "scrolled": false
   },
   "outputs": [
    {
     "name": "stdout",
     "output_type": "stream",
     "text": [
      "Country or Area     object\n",
      "Year                 int64\n",
      "Value              float64\n",
      "Value Footnotes    float64\n",
      "dtype: object\n"
     ]
    }
   ],
   "source": [
    "print(gdp_df.dtypes)"
   ]
  },
  {
   "cell_type": "markdown",
   "id": "b65eaa80",
   "metadata": {},
   "source": [
    "## 9. Take a look at the last 10 rows of each DataFrame in turn."
   ]
  },
  {
   "cell_type": "code",
   "execution_count": 70,
   "id": "c53da841",
   "metadata": {},
   "outputs": [
    {
     "name": "stdout",
     "output_type": "stream",
     "text": [
      "     Country or Area  Year        Value  Value Footnotes\n",
      "6857        Zimbabwe  2000  3473.429801              NaN\n",
      "6858        Zimbabwe  1999  3600.849291              NaN\n",
      "6859        Zimbabwe  1998  3653.920016              NaN\n",
      "6860        Zimbabwe  1997  3580.048793              NaN\n",
      "6861        Zimbabwe  1996  3520.430146              NaN\n",
      "6862        Zimbabwe  1995  3226.413930              NaN\n",
      "6863        Zimbabwe  1994  3263.934978              NaN\n",
      "6864        Zimbabwe  1993  3033.504852              NaN\n",
      "6865        Zimbabwe  1992  3054.889178              NaN\n",
      "6866        Zimbabwe  1991  3426.598094              NaN\n"
     ]
    }
   ],
   "source": [
    "print(gdp_df[-11:-1])"
   ]
  },
  {
   "cell_type": "code",
   "execution_count": 71,
   "id": "4dd5f7b6",
   "metadata": {},
   "outputs": [
    {
     "name": "stdout",
     "output_type": "stream",
     "text": [
      "     Country or Area  Year     Value  Value Footnotes\n",
      "4484        Zimbabwe  2003  6.394786              NaN\n",
      "4485        Zimbabwe  2002  3.994356              NaN\n",
      "4486        Zimbabwe  2001  0.799846              NaN\n",
      "4487        Zimbabwe  2000  0.401434              NaN\n",
      "4488        Zimbabwe  1999  0.161676              NaN\n",
      "4489        Zimbabwe  1998  0.081648              NaN\n",
      "4490        Zimbabwe  1997  0.033080              NaN\n",
      "4491        Zimbabwe  1996  0.016790              NaN\n",
      "4492        Zimbabwe  1995  0.007684              NaN\n",
      "4493        Zimbabwe  1994  0.001739              NaN\n"
     ]
    }
   ],
   "source": [
    "print(internet_df[-11:-1])"
   ]
  },
  {
   "cell_type": "markdown",
   "id": "254ccb11",
   "metadata": {},
   "source": [
    "## 10. Drop the value footnotes column from both DataFrames. Check that this worked as expected."
   ]
  },
  {
   "cell_type": "code",
   "execution_count": 72,
   "id": "cb37e68d",
   "metadata": {},
   "outputs": [
    {
     "name": "stdout",
     "output_type": "stream",
     "text": [
      "     Country or Area  Year        Value\n",
      "0        Afghanistan  2019  2065.036398\n",
      "1        Afghanistan  2018  2033.779002\n",
      "2        Afghanistan  2017  2058.383832\n",
      "3        Afghanistan  2016  2057.062164\n",
      "4        Afghanistan  2015  2068.265904\n",
      "...              ...   ...          ...\n",
      "6863        Zimbabwe  1994  3263.934978\n",
      "6864        Zimbabwe  1993  3033.504852\n",
      "6865        Zimbabwe  1992  3054.889178\n",
      "6866        Zimbabwe  1991  3426.598094\n",
      "6867        Zimbabwe  1990  3324.348171\n",
      "\n",
      "[6868 rows x 3 columns]\n",
      "     Country or Area  Year     Value\n",
      "0        Afghanistan  2014  6.390000\n",
      "1        Afghanistan  2013  5.900000\n",
      "2        Afghanistan  2012  5.454545\n",
      "3        Afghanistan  2011  5.000000\n",
      "4        Afghanistan  2010  4.000000\n",
      "...              ...   ...       ...\n",
      "4490        Zimbabwe  1997  0.033080\n",
      "4491        Zimbabwe  1996  0.016790\n",
      "4492        Zimbabwe  1995  0.007684\n",
      "4493        Zimbabwe  1994  0.001739\n",
      "4494        Zimbabwe  1990  0.000000\n",
      "\n",
      "[4495 rows x 3 columns]\n"
     ]
    }
   ],
   "source": [
    "gdp_df.pop('Value Footnotes')\n",
    "internet_df.pop('Value Footnotes')\n",
    "\n",
    "print(gdp_df)\n",
    "print(internet_df)"
   ]
  },
  {
   "cell_type": "markdown",
   "id": "7203de59",
   "metadata": {},
   "source": [
    "## 11. Change the columns for the GDP Per Capita DataFrame to ‘Country’, ‘Year’, and ‘GDP_Per_Capita’."
   ]
  },
  {
   "cell_type": "code",
   "execution_count": 89,
   "id": "aef38ba3",
   "metadata": {},
   "outputs": [
    {
     "name": "stdout",
     "output_type": "stream",
     "text": [
      "     Country or Area  Year  GDP_Per_Capita\n",
      "0        Afghanistan  2019     2065.036398\n",
      "1        Afghanistan  2018     2033.779002\n",
      "2        Afghanistan  2017     2058.383832\n",
      "3        Afghanistan  2016     2057.062164\n",
      "4        Afghanistan  2015     2068.265904\n",
      "...              ...   ...             ...\n",
      "6863        Zimbabwe  1994     3263.934978\n",
      "6864        Zimbabwe  1993     3033.504852\n",
      "6865        Zimbabwe  1992     3054.889178\n",
      "6866        Zimbabwe  1991     3426.598094\n",
      "6867        Zimbabwe  1990     3324.348171\n",
      "\n",
      "[6868 rows x 3 columns]\n"
     ]
    }
   ],
   "source": [
    "gdp_df.rename({'Value':'GDP_Per_Capita'}, axis = 1, inplace = True)\n",
    "print(gdp_df)"
   ]
  },
  {
   "cell_type": "markdown",
   "id": "4b73acd7",
   "metadata": {},
   "source": [
    "## 12. Change the columns for the Internet Users DataFrame to ‘Country’, ‘Year’, and ‘Internet_Users_Pct’."
   ]
  },
  {
   "cell_type": "code",
   "execution_count": 90,
   "id": "8c49c826",
   "metadata": {},
   "outputs": [
    {
     "name": "stdout",
     "output_type": "stream",
     "text": [
      "     Country or Area  Year  Internet_Users_Pct\n",
      "0        Afghanistan  2014            6.390000\n",
      "1        Afghanistan  2013            5.900000\n",
      "2        Afghanistan  2012            5.454545\n",
      "3        Afghanistan  2011            5.000000\n",
      "4        Afghanistan  2010            4.000000\n",
      "...              ...   ...                 ...\n",
      "4490        Zimbabwe  1997            0.033080\n",
      "4491        Zimbabwe  1996            0.016790\n",
      "4492        Zimbabwe  1995            0.007684\n",
      "4493        Zimbabwe  1994            0.001739\n",
      "4494        Zimbabwe  1990            0.000000\n",
      "\n",
      "[4495 rows x 3 columns]\n"
     ]
    }
   ],
   "source": [
    "internet_df.rename({'Value':'Internet_Users_Pct'}, axis = 1, inplace = True)\n",
    "print(internet_df)"
   ]
  },
  {
   "cell_type": "markdown",
   "id": "32c73be4",
   "metadata": {},
   "source": [
    "## 13. Merge the two DataFrames to one. Merge all rows from each of the two DataFrames. Call the new DataFrame gdp_and_internet_use."
   ]
  },
  {
   "cell_type": "code",
   "execution_count": 93,
   "id": "ec91b1ce",
   "metadata": {},
   "outputs": [
    {
     "name": "stdout",
     "output_type": "stream",
     "text": [
      "     Country or Area  Year  GDP_Per_Capita  Internet_Users_Pct\n",
      "0        Afghanistan  2014     2102.385234            6.390000\n",
      "1        Afghanistan  2013     2116.465454            5.900000\n",
      "2        Afghanistan  2012     2075.491747            5.454545\n",
      "3        Afghanistan  2011     1904.559799            5.000000\n",
      "4        Afghanistan  2010     1957.029338            4.000000\n",
      "...              ...   ...             ...                 ...\n",
      "3453        Zimbabwe  1997     3580.048793            0.033080\n",
      "3454        Zimbabwe  1996     3520.430146            0.016790\n",
      "3455        Zimbabwe  1995     3226.413930            0.007684\n",
      "3456        Zimbabwe  1994     3263.934978            0.001739\n",
      "3457        Zimbabwe  1990     3324.348171            0.000000\n",
      "\n",
      "[3458 rows x 4 columns]\n"
     ]
    }
   ],
   "source": [
    "gdp_and_internet_use = pd.merge(gdp_df, internet_df)\n",
    "print(gdp_and_internet_use)"
   ]
  },
  {
   "cell_type": "markdown",
   "id": "86fbdf9d",
   "metadata": {},
   "source": [
    "## 14. Look at the first five rows of your new DataFrame to confirm it merged correctly."
   ]
  },
  {
   "cell_type": "code",
   "execution_count": 105,
   "id": "016e7c52",
   "metadata": {},
   "outputs": [
    {
     "data": {
      "text/html": [
       "<div>\n",
       "<style scoped>\n",
       "    .dataframe tbody tr th:only-of-type {\n",
       "        vertical-align: middle;\n",
       "    }\n",
       "\n",
       "    .dataframe tbody tr th {\n",
       "        vertical-align: top;\n",
       "    }\n",
       "\n",
       "    .dataframe thead th {\n",
       "        text-align: right;\n",
       "    }\n",
       "</style>\n",
       "<table border=\"1\" class=\"dataframe\">\n",
       "  <thead>\n",
       "    <tr style=\"text-align: right;\">\n",
       "      <th></th>\n",
       "      <th>Country or Area</th>\n",
       "      <th>Year</th>\n",
       "      <th>GDP_Per_Capita</th>\n",
       "      <th>Internet_Users_Pct</th>\n",
       "    </tr>\n",
       "  </thead>\n",
       "  <tbody>\n",
       "    <tr>\n",
       "      <th>0</th>\n",
       "      <td>Afghanistan</td>\n",
       "      <td>2014</td>\n",
       "      <td>2102.385234</td>\n",
       "      <td>6.390000</td>\n",
       "    </tr>\n",
       "    <tr>\n",
       "      <th>1</th>\n",
       "      <td>Afghanistan</td>\n",
       "      <td>2013</td>\n",
       "      <td>2116.465454</td>\n",
       "      <td>5.900000</td>\n",
       "    </tr>\n",
       "    <tr>\n",
       "      <th>2</th>\n",
       "      <td>Afghanistan</td>\n",
       "      <td>2012</td>\n",
       "      <td>2075.491747</td>\n",
       "      <td>5.454545</td>\n",
       "    </tr>\n",
       "    <tr>\n",
       "      <th>3</th>\n",
       "      <td>Afghanistan</td>\n",
       "      <td>2011</td>\n",
       "      <td>1904.559799</td>\n",
       "      <td>5.000000</td>\n",
       "    </tr>\n",
       "    <tr>\n",
       "      <th>4</th>\n",
       "      <td>Afghanistan</td>\n",
       "      <td>2010</td>\n",
       "      <td>1957.029338</td>\n",
       "      <td>4.000000</td>\n",
       "    </tr>\n",
       "  </tbody>\n",
       "</table>\n",
       "</div>"
      ],
      "text/plain": [
       "  Country or Area  Year  GDP_Per_Capita  Internet_Users_Pct\n",
       "0     Afghanistan  2014     2102.385234            6.390000\n",
       "1     Afghanistan  2013     2116.465454            5.900000\n",
       "2     Afghanistan  2012     2075.491747            5.454545\n",
       "3     Afghanistan  2011     1904.559799            5.000000\n",
       "4     Afghanistan  2010     1957.029338            4.000000"
      ]
     },
     "execution_count": 105,
     "metadata": {},
     "output_type": "execute_result"
    }
   ],
   "source": [
    "gdp_and_internet_use.head(5)"
   ]
  },
  {
   "cell_type": "markdown",
   "id": "8132a15c",
   "metadata": {},
   "source": [
    "## 15. Look at the last five rows to make sure the data is clean and as expected."
   ]
  },
  {
   "cell_type": "code",
   "execution_count": 104,
   "id": "7adb2b12",
   "metadata": {},
   "outputs": [
    {
     "data": {
      "text/html": [
       "<div>\n",
       "<style scoped>\n",
       "    .dataframe tbody tr th:only-of-type {\n",
       "        vertical-align: middle;\n",
       "    }\n",
       "\n",
       "    .dataframe tbody tr th {\n",
       "        vertical-align: top;\n",
       "    }\n",
       "\n",
       "    .dataframe thead th {\n",
       "        text-align: right;\n",
       "    }\n",
       "</style>\n",
       "<table border=\"1\" class=\"dataframe\">\n",
       "  <thead>\n",
       "    <tr style=\"text-align: right;\">\n",
       "      <th></th>\n",
       "      <th>Country or Area</th>\n",
       "      <th>Year</th>\n",
       "      <th>GDP_Per_Capita</th>\n",
       "      <th>Internet_Users_Pct</th>\n",
       "    </tr>\n",
       "  </thead>\n",
       "  <tbody>\n",
       "    <tr>\n",
       "      <th>3453</th>\n",
       "      <td>Zimbabwe</td>\n",
       "      <td>1997</td>\n",
       "      <td>3580.048793</td>\n",
       "      <td>0.033080</td>\n",
       "    </tr>\n",
       "    <tr>\n",
       "      <th>3454</th>\n",
       "      <td>Zimbabwe</td>\n",
       "      <td>1996</td>\n",
       "      <td>3520.430146</td>\n",
       "      <td>0.016790</td>\n",
       "    </tr>\n",
       "    <tr>\n",
       "      <th>3455</th>\n",
       "      <td>Zimbabwe</td>\n",
       "      <td>1995</td>\n",
       "      <td>3226.413930</td>\n",
       "      <td>0.007684</td>\n",
       "    </tr>\n",
       "    <tr>\n",
       "      <th>3456</th>\n",
       "      <td>Zimbabwe</td>\n",
       "      <td>1994</td>\n",
       "      <td>3263.934978</td>\n",
       "      <td>0.001739</td>\n",
       "    </tr>\n",
       "    <tr>\n",
       "      <th>3457</th>\n",
       "      <td>Zimbabwe</td>\n",
       "      <td>1990</td>\n",
       "      <td>3324.348171</td>\n",
       "      <td>0.000000</td>\n",
       "    </tr>\n",
       "  </tbody>\n",
       "</table>\n",
       "</div>"
      ],
      "text/plain": [
       "     Country or Area  Year  GDP_Per_Capita  Internet_Users_Pct\n",
       "3453        Zimbabwe  1997     3580.048793            0.033080\n",
       "3454        Zimbabwe  1996     3520.430146            0.016790\n",
       "3455        Zimbabwe  1995     3226.413930            0.007684\n",
       "3456        Zimbabwe  1994     3263.934978            0.001739\n",
       "3457        Zimbabwe  1990     3324.348171            0.000000"
      ]
     },
     "execution_count": 104,
     "metadata": {},
     "output_type": "execute_result"
    }
   ],
   "source": [
    "gdp_and_internet_use.tail(5)"
   ]
  },
  {
   "cell_type": "markdown",
   "id": "8b7bf70c",
   "metadata": {},
   "source": [
    "## 16. Subset the combined DataFrame to keep only the data for 2004, 2009, and 2014. Check that this happened correctly."
   ]
  },
  {
   "cell_type": "code",
   "execution_count": 157,
   "id": "00fbc6ec",
   "metadata": {
    "scrolled": true
   },
   "outputs": [
    {
     "name": "stdout",
     "output_type": "stream",
     "text": [
      "     Country or Area  Year  GDP_Per_Capita  Internet_Users_Pct\n",
      "0        Afghanistan  2014     2102.385234            6.390000\n",
      "5        Afghanistan  2009     1758.904043            3.550000\n",
      "10       Afghanistan  2004     1200.278256            0.105809\n",
      "13           Albania  2014    11623.866679           60.100000\n",
      "18           Albania  2009    10346.864199           41.200000\n",
      "...              ...   ...             ...                 ...\n",
      "3419          Zambia  2009     2917.516220            6.310000\n",
      "3424          Zambia  2004     2261.766537            2.013550\n",
      "3436        Zimbabwe  2014     2955.240287           19.890000\n",
      "3441        Zimbabwe  2009     1925.364381           11.360000\n",
      "3446        Zimbabwe  2004     2480.859342            6.564045\n",
      "\n",
      "[482 rows x 4 columns]\n"
     ]
    }
   ],
   "source": [
    "subset = gdp_and_internet_use[gdp_and_internet_use['Year'].isin([2004,2009,2014])]\n",
    "print(subset)"
   ]
  },
  {
   "cell_type": "markdown",
   "id": "b267e6d3",
   "metadata": {},
   "source": [
    "## 17. Create three new DataFrames, one for 2004, one for 2009, and one for 2014. Give them meaningful names that aren't too long."
   ]
  },
  {
   "cell_type": "code",
   "execution_count": 158,
   "id": "5a9a05b5",
   "metadata": {},
   "outputs": [
    {
     "name": "stdout",
     "output_type": "stream",
     "text": [
      "          Country or Area  Year  GDP_Per_Capita  Internet_Users_Pct\n",
      "10            Afghanistan  2004     1200.278256            0.105809\n",
      "23                Albania  2004     7604.838002            2.420388\n",
      "44                Algeria  2004    10058.435939            4.634475\n",
      "66                 Angola  2004     5593.241537            0.464815\n",
      "86    Antigua and Barbuda  2004    18745.681534           24.266544\n",
      "...                   ...   ...             ...                 ...\n",
      "3361              Uruguay  2004    12479.966871           17.063098\n",
      "3383           Uzbekistan  2004     3221.189333            2.593725\n",
      "3404              Vanuatu  2004     2792.356252            4.746603\n",
      "3424               Zambia  2004     2261.766537            2.013550\n",
      "3446             Zimbabwe  2004     2480.859342            6.564045\n",
      "\n",
      "[157 rows x 4 columns]\n",
      "          Country or Area  Year  GDP_Per_Capita  Internet_Users_Pct\n",
      "5             Afghanistan  2009     1758.904043            3.550000\n",
      "18                Albania  2009    10346.864199           41.200000\n",
      "39                Algeria  2009    10782.361398           11.230000\n",
      "61                 Angola  2009     7643.493749            6.000000\n",
      "81    Antigua and Barbuda  2009    20046.839017           42.000000\n",
      "...                   ...   ...             ...                 ...\n",
      "3356              Uruguay  2009    16477.823860           41.800000\n",
      "3378           Uzbekistan  2009     4446.863606           17.058216\n",
      "3399              Vanuatu  2009     3270.529800            7.500000\n",
      "3419               Zambia  2009     2917.516220            6.310000\n",
      "3441             Zimbabwe  2009     1925.364381           11.360000\n",
      "\n",
      "[162 rows x 4 columns]\n",
      "          Country or Area  Year  GDP_Per_Capita  Internet_Users_Pct\n",
      "0             Afghanistan  2014     2102.385234                6.39\n",
      "13                Albania  2014    11623.866679               60.10\n",
      "34                Algeria  2014    11512.705405               18.09\n",
      "56                 Angola  2014     8239.828837               21.26\n",
      "76    Antigua and Barbuda  2014    18104.241470               64.00\n",
      "...                   ...   ...             ...                 ...\n",
      "3351              Uruguay  2014    20582.168953               61.46\n",
      "3373           Uzbekistan  2014     5764.492705               43.55\n",
      "3394              Vanuatu  2014     3116.077025               18.80\n",
      "3414               Zambia  2014     3450.046561               17.34\n",
      "3436             Zimbabwe  2014     2955.240287               19.89\n",
      "\n",
      "[163 rows x 4 columns]\n"
     ]
    }
   ],
   "source": [
    "df_2004 = pd.DataFrame(gdp_and_internet_use[gdp_and_internet_use['Year'].isin([2004])])\n",
    "df_2009 = pd.DataFrame(gdp_and_internet_use[gdp_and_internet_use['Year'].isin([2009])])\n",
    "df_2014 = pd.DataFrame(gdp_and_internet_use[gdp_and_internet_use['Year'].isin([2014])])\n",
    "\n",
    "print(df_2004)\n",
    "print(df_2009)\n",
    "print(df_2014)"
   ]
  },
  {
   "cell_type": "markdown",
   "id": "4c00f8de",
   "metadata": {},
   "source": [
    "## 18. Which country had the highest percentage of internet users in 2014? What was the percentage? (Try typing the first 3 letters of your DataFrame name and hitting the tab key for auto-complete options)."
   ]
  },
  {
   "cell_type": "markdown",
   "id": "793c2360",
   "metadata": {},
   "source": [
    "##### Below is a way to answer both 18 and 19 at the same time, but I think we were suppose to use min/max functions."
   ]
  },
  {
   "cell_type": "code",
   "execution_count": 180,
   "id": "ebb445e9",
   "metadata": {
    "scrolled": true
   },
   "outputs": [
    {
     "name": "stdout",
     "output_type": "stream",
     "text": [
      "     Country or Area  Year  GDP_Per_Capita  Internet_Users_Pct\n",
      "3087     Timor-Leste  2014     3264.568070                1.14\n",
      "540          Burundi  2014      886.235777                1.38\n",
      "1261          Guinea  2014     2061.760973                1.72\n",
      "2256           Niger  2014     1127.615541                1.95\n",
      "2728    Sierra Leone  2014     1997.511853                2.10\n",
      "...              ...   ...             ...                 ...\n",
      "1798      Luxembourg  2014   108760.916030               94.67\n",
      "854          Denmark  2014    52214.537753               95.99\n",
      "2296          Norway  2014    62589.373548               96.30\n",
      "372          Bermuda  2014    77361.104881               96.80\n",
      "1381         Iceland  2014    49652.149500               98.16\n",
      "\n",
      "[163 rows x 4 columns]\n"
     ]
    }
   ],
   "source": [
    "sorted_df = df_2014.sort_values(by='Internet_Users_Pct')\n",
    "print(sorted_df)"
   ]
  },
  {
   "cell_type": "markdown",
   "id": "8bf5e842",
   "metadata": {},
   "source": [
    "##### Below is the use of 'max' function"
   ]
  },
  {
   "cell_type": "code",
   "execution_count": 176,
   "id": "defb8851",
   "metadata": {},
   "outputs": [
    {
     "name": "stdout",
     "output_type": "stream",
     "text": [
      "     Country or Area  Year  GDP_Per_Capita  Internet_Users_Pct\n",
      "1381         Iceland  2014      49652.1495               98.16\n"
     ]
    }
   ],
   "source": [
    "max_IU = max(df_2014['Internet_Users_Pct'])\n",
    "top_country = df_2014[df_2014['Internet_Users_Pct'].isin([max_IU])]\n",
    "print(top_country)"
   ]
  },
  {
   "cell_type": "markdown",
   "id": "383aaae5",
   "metadata": {},
   "source": [
    "## 19. Which country had the lowest percentage of internet users in 2014? What was the percentage?"
   ]
  },
  {
   "cell_type": "markdown",
   "id": "3f8f41f5",
   "metadata": {},
   "source": [
    "#### Below is the use of the 'min' function"
   ]
  },
  {
   "cell_type": "code",
   "execution_count": 181,
   "id": "44c1904a",
   "metadata": {},
   "outputs": [
    {
     "name": "stdout",
     "output_type": "stream",
     "text": [
      "     Country or Area  Year  GDP_Per_Capita  Internet_Users_Pct\n",
      "3087     Timor-Leste  2014      3264.56807                1.14\n"
     ]
    }
   ],
   "source": [
    "min_IU = min(df_2014['Internet_Users_Pct'])\n",
    "bottom_country = df_2014[df_2014['Internet_Users_Pct'].isin([min_IU])]\n",
    "print(bottom_country)"
   ]
  },
  {
   "cell_type": "markdown",
   "id": "a45bbe6f",
   "metadata": {},
   "source": [
    "## 20. Repeat for 2004 and 2009."
   ]
  },
  {
   "cell_type": "markdown",
   "id": "c16d6ea3",
   "metadata": {},
   "source": [
    "#### 2004"
   ]
  },
  {
   "cell_type": "code",
   "execution_count": 190,
   "id": "9f8c0462",
   "metadata": {},
   "outputs": [
    {
     "name": "stdout",
     "output_type": "stream",
     "text": [
      "               Country or Area  Year  GDP_Per_Capita  Internet_Users_Pct\n",
      "Bottom Country                                                          \n",
      "2132                   Myanmar  2004      1696.88176            0.024337\n",
      "            Country or Area  Year  GDP_Per_Capita  Internet_Users_Pct\n",
      "Top Country                                                          \n",
      "2985                 Sweden  2004    44496.023401               83.89\n"
     ]
    }
   ],
   "source": [
    "sorted_df = df_2004.sort_values(by='Internet_Users_Pct')\n",
    "index = sorted_df.index\n",
    "index.name = 'Bottom Country'\n",
    "print(sorted_df.head(1))\n",
    "\n",
    "index.name = 'Top Country'\n",
    "print(sorted_df.tail(1))"
   ]
  },
  {
   "cell_type": "markdown",
   "id": "bf91a98d",
   "metadata": {},
   "source": [
    "#### 2009"
   ]
  },
  {
   "cell_type": "code",
   "execution_count": 191,
   "id": "20b9cbb0",
   "metadata": {},
   "outputs": [
    {
     "name": "stdout",
     "output_type": "stream",
     "text": [
      "               Country or Area  Year  GDP_Per_Capita  Internet_Users_Pct\n",
      "Bottom Country                                                          \n",
      "3092               Timor-Leste  2009     2724.770973            0.185252\n",
      "            Country or Area  Year  GDP_Per_Capita  Internet_Users_Pct\n",
      "Top Country                                                          \n",
      "1386                Iceland  2009    48177.084123                93.0\n"
     ]
    }
   ],
   "source": [
    "sorted_df = df_2009.sort_values(by='Internet_Users_Pct')\n",
    "index = sorted_df.index\n",
    "index.name = 'Bottom Country'\n",
    "print(sorted_df.head(1))\n",
    "\n",
    "index.name = 'Top Country'\n",
    "print(sorted_df.tail(1))"
   ]
  },
  {
   "cell_type": "markdown",
   "id": "73775ee8",
   "metadata": {},
   "source": [
    "## 21. Which country had the highest gdp per capita in 2014? What was the gdp per capita?"
   ]
  },
  {
   "cell_type": "code",
   "execution_count": 194,
   "id": "c4358cfe",
   "metadata": {},
   "outputs": [
    {
     "name": "stdout",
     "output_type": "stream",
     "text": [
      "            Country or Area  Year  GDP_Per_Capita  Internet_Users_Pct\n",
      "Top Country                                                          \n",
      "1798             Luxembourg  2014    108760.91603               94.67\n"
     ]
    }
   ],
   "source": [
    "sorted_df = df_2014.sort_values(by='GDP_Per_Capita')\n",
    "index = sorted_df.index\n",
    "index.name = 'Top Country'\n",
    "print(sorted_df.tail(1))"
   ]
  },
  {
   "cell_type": "markdown",
   "id": "37c42d5f",
   "metadata": {},
   "source": [
    "## 22. Which country had the lowest gdp per capita in 2014? What was the gdp per capita?"
   ]
  },
  {
   "cell_type": "code",
   "execution_count": 195,
   "id": "37a8f407",
   "metadata": {},
   "outputs": [
    {
     "name": "stdout",
     "output_type": "stream",
     "text": [
      "               Country or Area  Year  GDP_Per_Capita  Internet_Users_Pct\n",
      "Bottom Country                                                          \n",
      "540                    Burundi  2014      886.235777                1.38\n"
     ]
    }
   ],
   "source": [
    "sorted_df = df_2014.sort_values(by='GDP_Per_Capita')\n",
    "index = sorted_df.index\n",
    "index.name = 'Bottom Country'\n",
    "print(sorted_df.head(1))"
   ]
  },
  {
   "cell_type": "markdown",
   "id": "53dd75ac",
   "metadata": {},
   "source": [
    "## 23. Create some scatterplots:"
   ]
  },
  {
   "cell_type": "markdown",
   "id": "6057b3fd",
   "metadata": {},
   "source": [
    "### a. 2004 Percent Using the Internet vs GDP Per Capita"
   ]
  },
  {
   "cell_type": "code",
   "execution_count": null,
   "id": "ed4ea6ca",
   "metadata": {},
   "outputs": [],
   "source": []
  },
  {
   "cell_type": "markdown",
   "id": "31301d14",
   "metadata": {},
   "source": [
    "### b. 2009 Percent Using the Internet vs GDP Per Capita"
   ]
  },
  {
   "cell_type": "code",
   "execution_count": null,
   "id": "74814ff7",
   "metadata": {},
   "outputs": [],
   "source": []
  },
  {
   "cell_type": "markdown",
   "id": "b0e47315",
   "metadata": {},
   "source": [
    "### c. 2014 Percent Using the Internet vs GDP Per Capita"
   ]
  },
  {
   "cell_type": "code",
   "execution_count": null,
   "id": "7f1d9479",
   "metadata": {},
   "outputs": [],
   "source": []
  }
 ],
 "metadata": {
  "kernelspec": {
   "display_name": "Python 3 (ipykernel)",
   "language": "python",
   "name": "python3"
  },
  "language_info": {
   "codemirror_mode": {
    "name": "ipython",
    "version": 3
   },
   "file_extension": ".py",
   "mimetype": "text/x-python",
   "name": "python",
   "nbconvert_exporter": "python",
   "pygments_lexer": "ipython3",
   "version": "3.9.12"
  }
 },
 "nbformat": 4,
 "nbformat_minor": 5
}
