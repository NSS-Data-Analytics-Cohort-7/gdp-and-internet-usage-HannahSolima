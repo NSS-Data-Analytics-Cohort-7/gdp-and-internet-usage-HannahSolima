{
 "cells": [
  {
   "cell_type": "markdown",
   "id": "9511f91f",
   "metadata": {},
   "source": [
    "## 3. Import the required packages with their customary aliases as follows:\n",
    " import pandas as pd\n",
    " import numpy as np\n",
    " import matplotlib.pyplot as plt\n",
    " import seaborn as sns"
   ]
  },
  {
   "cell_type": "code",
   "execution_count": 2,
   "id": "77209ea4",
   "metadata": {},
   "outputs": [],
   "source": [
    " import pandas as pd\n",
    " import numpy as np\n",
    " import matplotlib.pyplot as plt\n",
    " import seaborn as sns"
   ]
  },
  {
   "cell_type": "markdown",
   "id": "42e39851",
   "metadata": {},
   "source": [
    "## 4. Use the %matplotlib inline magic command so that your plots show in the notebook without having to call plt.show() every time."
   ]
  },
  {
   "cell_type": "code",
   "execution_count": 4,
   "id": "23a3201a",
   "metadata": {},
   "outputs": [],
   "source": [
    "%matplotlib inline"
   ]
  },
  {
   "cell_type": "markdown",
   "id": "c032a894",
   "metadata": {},
   "source": [
    "## 5. Using the pandas read_csv() method, read the GDP dataset into your notebook as a DataFrame called gdp_df. Take a look at the first 6 rows."
   ]
  },
  {
   "cell_type": "code",
   "execution_count": 24,
   "id": "84da1b98",
   "metadata": {
    "scrolled": false
   },
   "outputs": [
    {
     "name": "stdout",
     "output_type": "stream",
     "text": [
      "  Country or Area  Year        Value  Value Footnotes\n",
      "0     Afghanistan  2019  2065.036398              NaN\n",
      "1     Afghanistan  2018  2033.779002              NaN\n",
      "2     Afghanistan  2017  2058.383832              NaN\n",
      "3     Afghanistan  2016  2057.062164              NaN\n",
      "4     Afghanistan  2015  2068.265904              NaN\n",
      "5     Afghanistan  2014  2102.385234              NaN\n",
      "6     Afghanistan  2013  2116.465454              NaN\n"
     ]
    }
   ],
   "source": [
    "gdp_df = pd.read_csv(\"../Data/gdp_percapita.csv\", nrows=6868)\n",
    "print(gdp_df[:7])"
   ]
  },
  {
   "cell_type": "markdown",
   "id": "07232238",
   "metadata": {},
   "source": [
    "## 6. Repeat for the internet use dataset. Call this DataFrame internet_df. Take a look at the first six rows."
   ]
  },
  {
   "cell_type": "code",
   "execution_count": 23,
   "id": "b2aeaffb",
   "metadata": {},
   "outputs": [
    {
     "name": "stdout",
     "output_type": "stream",
     "text": [
      "  Country or Area  Year     Value  Value Footnotes\n",
      "0     Afghanistan  2014  6.390000              NaN\n",
      "1     Afghanistan  2013  5.900000              NaN\n",
      "2     Afghanistan  2012  5.454545              NaN\n",
      "3     Afghanistan  2011  5.000000              NaN\n",
      "4     Afghanistan  2010  4.000000              NaN\n",
      "5     Afghanistan  2009  3.550000              NaN\n",
      "6     Afghanistan  2008  1.840000              NaN\n"
     ]
    }
   ],
   "source": [
    "internet_df = pd.read_csv(\"../Data/internet_use.csv\", nrows=4495)\n",
    "print(internet_df[:7])"
   ]
  },
  {
   "cell_type": "markdown",
   "id": "1f30ea28",
   "metadata": {},
   "source": [
    "## 7. Look at the shape of each DataFrame - how many rows? How many columns?"
   ]
  },
  {
   "cell_type": "code",
   "execution_count": 31,
   "id": "2636badb",
   "metadata": {},
   "outputs": [
    {
     "name": "stdout",
     "output_type": "stream",
     "text": [
      "(6868, 4)\n"
     ]
    }
   ],
   "source": [
    "gdp_shape = gdp_df.shape\n",
    "print(gdp_shape)"
   ]
  },
  {
   "cell_type": "code",
   "execution_count": 32,
   "id": "4a6c4d1f",
   "metadata": {},
   "outputs": [
    {
     "name": "stdout",
     "output_type": "stream",
     "text": [
      "(4495, 4)\n"
     ]
    }
   ],
   "source": [
    "internet_shape = internet_df.shape\n",
    "print(internet_shape)"
   ]
  },
  {
   "cell_type": "markdown",
   "id": "c93975ff",
   "metadata": {},
   "source": [
    "## 8. Take a look at the datatypes for the columns in each DataFrame"
   ]
  },
  {
   "cell_type": "markdown",
   "id": "58942086",
   "metadata": {},
   "source": [
    "#### This was recommended by Abi because it gives you more information and takes up less space (if I remember correctly)"
   ]
  },
  {
   "cell_type": "code",
   "execution_count": 64,
   "id": "2e8030fe",
   "metadata": {
    "scrolled": true
   },
   "outputs": [
    {
     "name": "stdout",
     "output_type": "stream",
     "text": [
      "<class 'pandas.core.frame.DataFrame'>\n",
      "RangeIndex: 6868 entries, 0 to 6867\n",
      "Data columns (total 4 columns):\n",
      " #   Column           Non-Null Count  Dtype  \n",
      "---  ------           --------------  -----  \n",
      " 0   Country or Area  6868 non-null   object \n",
      " 1   Year             6868 non-null   int64  \n",
      " 2   Value            6868 non-null   float64\n",
      " 3   Value Footnotes  1 non-null      float64\n",
      "dtypes: float64(2), int64(1), object(1)\n",
      "memory usage: 214.8+ KB\n"
     ]
    }
   ],
   "source": [
    "gdp_df.info()"
   ]
  },
  {
   "cell_type": "markdown",
   "id": "951510ba",
   "metadata": {},
   "source": [
    "#### This is another way to get datatypes for the columns in a dataframe. "
   ]
  },
  {
   "cell_type": "code",
   "execution_count": 66,
   "id": "1f888791",
   "metadata": {
    "scrolled": false
   },
   "outputs": [
    {
     "name": "stdout",
     "output_type": "stream",
     "text": [
      "Country or Area     object\n",
      "Year                 int64\n",
      "Value              float64\n",
      "Value Footnotes    float64\n",
      "dtype: object\n"
     ]
    }
   ],
   "source": [
    "print(gdp_df.dtypes)"
   ]
  },
  {
   "cell_type": "markdown",
   "id": "b65eaa80",
   "metadata": {},
   "source": [
    "## 9. Take a look at the last 10 rows of each DataFrame in turn."
   ]
  },
  {
   "cell_type": "code",
   "execution_count": 70,
   "id": "c53da841",
   "metadata": {},
   "outputs": [
    {
     "name": "stdout",
     "output_type": "stream",
     "text": [
      "     Country or Area  Year        Value  Value Footnotes\n",
      "6857        Zimbabwe  2000  3473.429801              NaN\n",
      "6858        Zimbabwe  1999  3600.849291              NaN\n",
      "6859        Zimbabwe  1998  3653.920016              NaN\n",
      "6860        Zimbabwe  1997  3580.048793              NaN\n",
      "6861        Zimbabwe  1996  3520.430146              NaN\n",
      "6862        Zimbabwe  1995  3226.413930              NaN\n",
      "6863        Zimbabwe  1994  3263.934978              NaN\n",
      "6864        Zimbabwe  1993  3033.504852              NaN\n",
      "6865        Zimbabwe  1992  3054.889178              NaN\n",
      "6866        Zimbabwe  1991  3426.598094              NaN\n"
     ]
    }
   ],
   "source": [
    "print(gdp_df[-11:-1])"
   ]
  },
  {
   "cell_type": "code",
   "execution_count": 71,
   "id": "4dd5f7b6",
   "metadata": {},
   "outputs": [
    {
     "name": "stdout",
     "output_type": "stream",
     "text": [
      "     Country or Area  Year     Value  Value Footnotes\n",
      "4484        Zimbabwe  2003  6.394786              NaN\n",
      "4485        Zimbabwe  2002  3.994356              NaN\n",
      "4486        Zimbabwe  2001  0.799846              NaN\n",
      "4487        Zimbabwe  2000  0.401434              NaN\n",
      "4488        Zimbabwe  1999  0.161676              NaN\n",
      "4489        Zimbabwe  1998  0.081648              NaN\n",
      "4490        Zimbabwe  1997  0.033080              NaN\n",
      "4491        Zimbabwe  1996  0.016790              NaN\n",
      "4492        Zimbabwe  1995  0.007684              NaN\n",
      "4493        Zimbabwe  1994  0.001739              NaN\n"
     ]
    }
   ],
   "source": [
    "print(internet_df[-11:-1])"
   ]
  },
  {
   "cell_type": "markdown",
   "id": "254ccb11",
   "metadata": {},
   "source": [
    "## 10. Drop the value footnotes column from both DataFrames. Check that this worked as expected."
   ]
  },
  {
   "cell_type": "code",
   "execution_count": 72,
   "id": "cb37e68d",
   "metadata": {},
   "outputs": [
    {
     "name": "stdout",
     "output_type": "stream",
     "text": [
      "     Country or Area  Year        Value\n",
      "0        Afghanistan  2019  2065.036398\n",
      "1        Afghanistan  2018  2033.779002\n",
      "2        Afghanistan  2017  2058.383832\n",
      "3        Afghanistan  2016  2057.062164\n",
      "4        Afghanistan  2015  2068.265904\n",
      "...              ...   ...          ...\n",
      "6863        Zimbabwe  1994  3263.934978\n",
      "6864        Zimbabwe  1993  3033.504852\n",
      "6865        Zimbabwe  1992  3054.889178\n",
      "6866        Zimbabwe  1991  3426.598094\n",
      "6867        Zimbabwe  1990  3324.348171\n",
      "\n",
      "[6868 rows x 3 columns]\n",
      "     Country or Area  Year     Value\n",
      "0        Afghanistan  2014  6.390000\n",
      "1        Afghanistan  2013  5.900000\n",
      "2        Afghanistan  2012  5.454545\n",
      "3        Afghanistan  2011  5.000000\n",
      "4        Afghanistan  2010  4.000000\n",
      "...              ...   ...       ...\n",
      "4490        Zimbabwe  1997  0.033080\n",
      "4491        Zimbabwe  1996  0.016790\n",
      "4492        Zimbabwe  1995  0.007684\n",
      "4493        Zimbabwe  1994  0.001739\n",
      "4494        Zimbabwe  1990  0.000000\n",
      "\n",
      "[4495 rows x 3 columns]\n"
     ]
    }
   ],
   "source": [
    "gdp_df.pop('Value Footnotes')\n",
    "internet_df.pop('Value Footnotes')\n",
    "\n",
    "print(gdp_df)\n",
    "print(internet_df)"
   ]
  },
  {
   "cell_type": "markdown",
   "id": "7203de59",
   "metadata": {},
   "source": [
    "## 11. Change the columns for the GDP Per Capita DataFrame to ‘Country’, ‘Year’, and ‘GDP_Per_Capita’."
   ]
  },
  {
   "cell_type": "code",
   "execution_count": 89,
   "id": "aef38ba3",
   "metadata": {},
   "outputs": [
    {
     "name": "stdout",
     "output_type": "stream",
     "text": [
      "     Country or Area  Year  GDP_Per_Capita\n",
      "0        Afghanistan  2019     2065.036398\n",
      "1        Afghanistan  2018     2033.779002\n",
      "2        Afghanistan  2017     2058.383832\n",
      "3        Afghanistan  2016     2057.062164\n",
      "4        Afghanistan  2015     2068.265904\n",
      "...              ...   ...             ...\n",
      "6863        Zimbabwe  1994     3263.934978\n",
      "6864        Zimbabwe  1993     3033.504852\n",
      "6865        Zimbabwe  1992     3054.889178\n",
      "6866        Zimbabwe  1991     3426.598094\n",
      "6867        Zimbabwe  1990     3324.348171\n",
      "\n",
      "[6868 rows x 3 columns]\n"
     ]
    }
   ],
   "source": [
    "gdp_df.rename({'Value':'GDP_Per_Capita'}, axis = 1, inplace = True)\n",
    "print(gdp_df)"
   ]
  },
  {
   "cell_type": "markdown",
   "id": "4b73acd7",
   "metadata": {},
   "source": [
    "## 12. Change the columns for the Internet Users DataFrame to ‘Country’, ‘Year’, and ‘Internet_Users_Pct’."
   ]
  },
  {
   "cell_type": "code",
   "execution_count": 90,
   "id": "8c49c826",
   "metadata": {},
   "outputs": [
    {
     "name": "stdout",
     "output_type": "stream",
     "text": [
      "     Country or Area  Year  Internet_Users_Pct\n",
      "0        Afghanistan  2014            6.390000\n",
      "1        Afghanistan  2013            5.900000\n",
      "2        Afghanistan  2012            5.454545\n",
      "3        Afghanistan  2011            5.000000\n",
      "4        Afghanistan  2010            4.000000\n",
      "...              ...   ...                 ...\n",
      "4490        Zimbabwe  1997            0.033080\n",
      "4491        Zimbabwe  1996            0.016790\n",
      "4492        Zimbabwe  1995            0.007684\n",
      "4493        Zimbabwe  1994            0.001739\n",
      "4494        Zimbabwe  1990            0.000000\n",
      "\n",
      "[4495 rows x 3 columns]\n"
     ]
    }
   ],
   "source": [
    "internet_df.rename({'Value':'Internet_Users_Pct'}, axis = 1, inplace = True)\n",
    "print(internet_df)"
   ]
  },
  {
   "cell_type": "markdown",
   "id": "32c73be4",
   "metadata": {},
   "source": [
    "## 13. Merge the two DataFrames to one. Merge all rows from each of the two DataFrames. Call the new DataFrame gdp_and_internet_use."
   ]
  },
  {
   "cell_type": "code",
   "execution_count": 93,
   "id": "ec91b1ce",
   "metadata": {},
   "outputs": [
    {
     "name": "stdout",
     "output_type": "stream",
     "text": [
      "     Country or Area  Year  GDP_Per_Capita  Internet_Users_Pct\n",
      "0        Afghanistan  2014     2102.385234            6.390000\n",
      "1        Afghanistan  2013     2116.465454            5.900000\n",
      "2        Afghanistan  2012     2075.491747            5.454545\n",
      "3        Afghanistan  2011     1904.559799            5.000000\n",
      "4        Afghanistan  2010     1957.029338            4.000000\n",
      "...              ...   ...             ...                 ...\n",
      "3453        Zimbabwe  1997     3580.048793            0.033080\n",
      "3454        Zimbabwe  1996     3520.430146            0.016790\n",
      "3455        Zimbabwe  1995     3226.413930            0.007684\n",
      "3456        Zimbabwe  1994     3263.934978            0.001739\n",
      "3457        Zimbabwe  1990     3324.348171            0.000000\n",
      "\n",
      "[3458 rows x 4 columns]\n"
     ]
    }
   ],
   "source": [
    "gdp_and_internet_use = pd.merge(gdp_df, internet_df)\n",
    "print(gdp_and_internet_use)"
   ]
  },
  {
   "cell_type": "markdown",
   "id": "0573f5dd",
   "metadata": {},
   "source": [
    "## 14. Look at the first five rows of your new DataFrame to confirm it merged correctly."
   ]
  },
  {
   "cell_type": "code",
   "execution_count": 105,
   "id": "538dd615",
   "metadata": {},
   "outputs": [
    {
     "data": {
      "text/html": [
       "<div>\n",
       "<style scoped>\n",
       "    .dataframe tbody tr th:only-of-type {\n",
       "        vertical-align: middle;\n",
       "    }\n",
       "\n",
       "    .dataframe tbody tr th {\n",
       "        vertical-align: top;\n",
       "    }\n",
       "\n",
       "    .dataframe thead th {\n",
       "        text-align: right;\n",
       "    }\n",
       "</style>\n",
       "<table border=\"1\" class=\"dataframe\">\n",
       "  <thead>\n",
       "    <tr style=\"text-align: right;\">\n",
       "      <th></th>\n",
       "      <th>Country or Area</th>\n",
       "      <th>Year</th>\n",
       "      <th>GDP_Per_Capita</th>\n",
       "      <th>Internet_Users_Pct</th>\n",
       "    </tr>\n",
       "  </thead>\n",
       "  <tbody>\n",
       "    <tr>\n",
       "      <th>0</th>\n",
       "      <td>Afghanistan</td>\n",
       "      <td>2014</td>\n",
       "      <td>2102.385234</td>\n",
       "      <td>6.390000</td>\n",
       "    </tr>\n",
       "    <tr>\n",
       "      <th>1</th>\n",
       "      <td>Afghanistan</td>\n",
       "      <td>2013</td>\n",
       "      <td>2116.465454</td>\n",
       "      <td>5.900000</td>\n",
       "    </tr>\n",
       "    <tr>\n",
       "      <th>2</th>\n",
       "      <td>Afghanistan</td>\n",
       "      <td>2012</td>\n",
       "      <td>2075.491747</td>\n",
       "      <td>5.454545</td>\n",
       "    </tr>\n",
       "    <tr>\n",
       "      <th>3</th>\n",
       "      <td>Afghanistan</td>\n",
       "      <td>2011</td>\n",
       "      <td>1904.559799</td>\n",
       "      <td>5.000000</td>\n",
       "    </tr>\n",
       "    <tr>\n",
       "      <th>4</th>\n",
       "      <td>Afghanistan</td>\n",
       "      <td>2010</td>\n",
       "      <td>1957.029338</td>\n",
       "      <td>4.000000</td>\n",
       "    </tr>\n",
       "  </tbody>\n",
       "</table>\n",
       "</div>"
      ],
      "text/plain": [
       "  Country or Area  Year  GDP_Per_Capita  Internet_Users_Pct\n",
       "0     Afghanistan  2014     2102.385234            6.390000\n",
       "1     Afghanistan  2013     2116.465454            5.900000\n",
       "2     Afghanistan  2012     2075.491747            5.454545\n",
       "3     Afghanistan  2011     1904.559799            5.000000\n",
       "4     Afghanistan  2010     1957.029338            4.000000"
      ]
     },
     "execution_count": 105,
     "metadata": {},
     "output_type": "execute_result"
    }
   ],
   "source": [
    "gdp_and_internet_use.head(5)"
   ]
  },
  {
   "cell_type": "markdown",
   "id": "03dd7de9",
   "metadata": {},
   "source": [
    "## 15. Look at the last five rows to make sure the data is clean and as expected."
   ]
  },
  {
   "cell_type": "code",
   "execution_count": 104,
   "id": "6bef2099",
   "metadata": {},
   "outputs": [
    {
     "data": {
      "text/html": [
       "<div>\n",
       "<style scoped>\n",
       "    .dataframe tbody tr th:only-of-type {\n",
       "        vertical-align: middle;\n",
       "    }\n",
       "\n",
       "    .dataframe tbody tr th {\n",
       "        vertical-align: top;\n",
       "    }\n",
       "\n",
       "    .dataframe thead th {\n",
       "        text-align: right;\n",
       "    }\n",
       "</style>\n",
       "<table border=\"1\" class=\"dataframe\">\n",
       "  <thead>\n",
       "    <tr style=\"text-align: right;\">\n",
       "      <th></th>\n",
       "      <th>Country or Area</th>\n",
       "      <th>Year</th>\n",
       "      <th>GDP_Per_Capita</th>\n",
       "      <th>Internet_Users_Pct</th>\n",
       "    </tr>\n",
       "  </thead>\n",
       "  <tbody>\n",
       "    <tr>\n",
       "      <th>3453</th>\n",
       "      <td>Zimbabwe</td>\n",
       "      <td>1997</td>\n",
       "      <td>3580.048793</td>\n",
       "      <td>0.033080</td>\n",
       "    </tr>\n",
       "    <tr>\n",
       "      <th>3454</th>\n",
       "      <td>Zimbabwe</td>\n",
       "      <td>1996</td>\n",
       "      <td>3520.430146</td>\n",
       "      <td>0.016790</td>\n",
       "    </tr>\n",
       "    <tr>\n",
       "      <th>3455</th>\n",
       "      <td>Zimbabwe</td>\n",
       "      <td>1995</td>\n",
       "      <td>3226.413930</td>\n",
       "      <td>0.007684</td>\n",
       "    </tr>\n",
       "    <tr>\n",
       "      <th>3456</th>\n",
       "      <td>Zimbabwe</td>\n",
       "      <td>1994</td>\n",
       "      <td>3263.934978</td>\n",
       "      <td>0.001739</td>\n",
       "    </tr>\n",
       "    <tr>\n",
       "      <th>3457</th>\n",
       "      <td>Zimbabwe</td>\n",
       "      <td>1990</td>\n",
       "      <td>3324.348171</td>\n",
       "      <td>0.000000</td>\n",
       "    </tr>\n",
       "  </tbody>\n",
       "</table>\n",
       "</div>"
      ],
      "text/plain": [
       "     Country or Area  Year  GDP_Per_Capita  Internet_Users_Pct\n",
       "3453        Zimbabwe  1997     3580.048793            0.033080\n",
       "3454        Zimbabwe  1996     3520.430146            0.016790\n",
       "3455        Zimbabwe  1995     3226.413930            0.007684\n",
       "3456        Zimbabwe  1994     3263.934978            0.001739\n",
       "3457        Zimbabwe  1990     3324.348171            0.000000"
      ]
     },
     "execution_count": 104,
     "metadata": {},
     "output_type": "execute_result"
    }
   ],
   "source": [
    "gdp_and_internet_use.tail(5)"
   ]
  },
  {
   "cell_type": "markdown",
   "id": "aaca098a",
   "metadata": {},
   "source": [
    "## 16. Subset the combined DataFrame to keep only the data for 2004, 2009, and 2014. Check that this happened correctly."
   ]
  },
  {
   "cell_type": "code",
   "execution_count": 157,
   "id": "a9e53efc",
   "metadata": {
    "scrolled": true
   },
   "outputs": [
    {
     "name": "stdout",
     "output_type": "stream",
     "text": [
      "     Country or Area  Year  GDP_Per_Capita  Internet_Users_Pct\n",
      "0        Afghanistan  2014     2102.385234            6.390000\n",
      "5        Afghanistan  2009     1758.904043            3.550000\n",
      "10       Afghanistan  2004     1200.278256            0.105809\n",
      "13           Albania  2014    11623.866679           60.100000\n",
      "18           Albania  2009    10346.864199           41.200000\n",
      "...              ...   ...             ...                 ...\n",
      "3419          Zambia  2009     2917.516220            6.310000\n",
      "3424          Zambia  2004     2261.766537            2.013550\n",
      "3436        Zimbabwe  2014     2955.240287           19.890000\n",
      "3441        Zimbabwe  2009     1925.364381           11.360000\n",
      "3446        Zimbabwe  2004     2480.859342            6.564045\n",
      "\n",
      "[482 rows x 4 columns]\n"
     ]
    }
   ],
   "source": [
    "subset = gdp_and_internet_use[gdp_and_internet_use['Year'].isin([2004,2009,2014])]\n",
    "print(subset)"
   ]
  },
  {
   "cell_type": "markdown",
   "id": "ad3239c8",
   "metadata": {},
   "source": [
    "## 17. Create three new DataFrames, one for 2004, one for 2009, and one for 2014. Give them meaningful names that aren't too long."
   ]
  },
  {
   "cell_type": "code",
   "execution_count": 158,
   "id": "97192715",
   "metadata": {},
   "outputs": [
    {
     "name": "stdout",
     "output_type": "stream",
     "text": [
      "          Country or Area  Year  GDP_Per_Capita  Internet_Users_Pct\n",
      "10            Afghanistan  2004     1200.278256            0.105809\n",
      "23                Albania  2004     7604.838002            2.420388\n",
      "44                Algeria  2004    10058.435939            4.634475\n",
      "66                 Angola  2004     5593.241537            0.464815\n",
      "86    Antigua and Barbuda  2004    18745.681534           24.266544\n",
      "...                   ...   ...             ...                 ...\n",
      "3361              Uruguay  2004    12479.966871           17.063098\n",
      "3383           Uzbekistan  2004     3221.189333            2.593725\n",
      "3404              Vanuatu  2004     2792.356252            4.746603\n",
      "3424               Zambia  2004     2261.766537            2.013550\n",
      "3446             Zimbabwe  2004     2480.859342            6.564045\n",
      "\n",
      "[157 rows x 4 columns]\n",
      "          Country or Area  Year  GDP_Per_Capita  Internet_Users_Pct\n",
      "5             Afghanistan  2009     1758.904043            3.550000\n",
      "18                Albania  2009    10346.864199           41.200000\n",
      "39                Algeria  2009    10782.361398           11.230000\n",
      "61                 Angola  2009     7643.493749            6.000000\n",
      "81    Antigua and Barbuda  2009    20046.839017           42.000000\n",
      "...                   ...   ...             ...                 ...\n",
      "3356              Uruguay  2009    16477.823860           41.800000\n",
      "3378           Uzbekistan  2009     4446.863606           17.058216\n",
      "3399              Vanuatu  2009     3270.529800            7.500000\n",
      "3419               Zambia  2009     2917.516220            6.310000\n",
      "3441             Zimbabwe  2009     1925.364381           11.360000\n",
      "\n",
      "[162 rows x 4 columns]\n",
      "          Country or Area  Year  GDP_Per_Capita  Internet_Users_Pct\n",
      "0             Afghanistan  2014     2102.385234                6.39\n",
      "13                Albania  2014    11623.866679               60.10\n",
      "34                Algeria  2014    11512.705405               18.09\n",
      "56                 Angola  2014     8239.828837               21.26\n",
      "76    Antigua and Barbuda  2014    18104.241470               64.00\n",
      "...                   ...   ...             ...                 ...\n",
      "3351              Uruguay  2014    20582.168953               61.46\n",
      "3373           Uzbekistan  2014     5764.492705               43.55\n",
      "3394              Vanuatu  2014     3116.077025               18.80\n",
      "3414               Zambia  2014     3450.046561               17.34\n",
      "3436             Zimbabwe  2014     2955.240287               19.89\n",
      "\n",
      "[163 rows x 4 columns]\n"
     ]
    }
   ],
   "source": [
    "df_2004 = pd.DataFrame(gdp_and_internet_use[gdp_and_internet_use['Year'].isin([2004])])\n",
    "df_2009 = pd.DataFrame(gdp_and_internet_use[gdp_and_internet_use['Year'].isin([2009])])\n",
    "df_2014 = pd.DataFrame(gdp_and_internet_use[gdp_and_internet_use['Year'].isin([2014])])\n",
    "\n",
    "print(df_2004)\n",
    "print(df_2009)\n",
    "print(df_2014)"
   ]
  },
  {
   "cell_type": "markdown",
   "id": "4f6873a1",
   "metadata": {},
   "source": [
    "## 18. Which country had the highest percentage of internet users in 2014? What was the percentage? (Try typing the first 3 letters of your DataFrame name and hitting the tab key for auto-complete options)."
   ]
  },
  {
   "cell_type": "markdown",
   "id": "0bfc397d",
   "metadata": {},
   "source": [
    "##### Below is a way to answer both 18 and 19 at the same time, but I think we were suppose to use min/max functions."
   ]
  },
  {
   "cell_type": "code",
   "execution_count": 180,
   "id": "fd767cbe",
   "metadata": {
    "scrolled": true
   },
   "outputs": [
    {
     "name": "stdout",
     "output_type": "stream",
     "text": [
      "     Country or Area  Year  GDP_Per_Capita  Internet_Users_Pct\n",
      "3087     Timor-Leste  2014     3264.568070                1.14\n",
      "540          Burundi  2014      886.235777                1.38\n",
      "1261          Guinea  2014     2061.760973                1.72\n",
      "2256           Niger  2014     1127.615541                1.95\n",
      "2728    Sierra Leone  2014     1997.511853                2.10\n",
      "...              ...   ...             ...                 ...\n",
      "1798      Luxembourg  2014   108760.916030               94.67\n",
      "854          Denmark  2014    52214.537753               95.99\n",
      "2296          Norway  2014    62589.373548               96.30\n",
      "372          Bermuda  2014    77361.104881               96.80\n",
      "1381         Iceland  2014    49652.149500               98.16\n",
      "\n",
      "[163 rows x 4 columns]\n"
     ]
    }
   ],
   "source": [
    "sorted_df = df_2014.sort_values(by='Internet_Users_Pct')\n",
    "print(sorted_df)"
   ]
  },
  {
   "cell_type": "markdown",
   "id": "de9d08db",
   "metadata": {},
   "source": [
    "##### Below is the use of 'max' function"
   ]
  },
  {
   "cell_type": "code",
   "execution_count": 176,
   "id": "592bc0d9",
   "metadata": {},
   "outputs": [
    {
     "name": "stdout",
     "output_type": "stream",
     "text": [
      "     Country or Area  Year  GDP_Per_Capita  Internet_Users_Pct\n",
      "1381         Iceland  2014      49652.1495               98.16\n"
     ]
    }
   ],
   "source": [
    "max_IU = max(df_2014['Internet_Users_Pct'])\n",
    "top_country = df_2014[df_2014['Internet_Users_Pct'].isin([max_IU])]\n",
    "print(top_country)"
   ]
  },
  {
   "cell_type": "markdown",
   "id": "235b818f",
   "metadata": {},
   "source": [
    "## 19. Which country had the lowest percentage of internet users in 2014? What was the percentage?"
   ]
  },
  {
   "cell_type": "markdown",
   "id": "2d29ed1b",
   "metadata": {},
   "source": [
    "#### Below is the use of the 'min' function"
   ]
  },
  {
   "cell_type": "code",
   "execution_count": 181,
   "id": "9c011bd8",
   "metadata": {},
   "outputs": [
    {
     "name": "stdout",
     "output_type": "stream",
     "text": [
      "     Country or Area  Year  GDP_Per_Capita  Internet_Users_Pct\n",
      "3087     Timor-Leste  2014      3264.56807                1.14\n"
     ]
    }
   ],
   "source": [
    "min_IU = min(df_2014['Internet_Users_Pct'])\n",
    "bottom_country = df_2014[df_2014['Internet_Users_Pct'].isin([min_IU])]\n",
    "print(bottom_country)"
   ]
  },
  {
   "cell_type": "markdown",
   "id": "0cf88261",
   "metadata": {},
   "source": [
    "## 20. Repeat for 2004 and 2009."
   ]
  },
  {
   "cell_type": "markdown",
   "id": "51f3fa8e",
   "metadata": {},
   "source": [
    "#### 2004"
   ]
  },
  {
   "cell_type": "code",
   "execution_count": 190,
   "id": "56d38a73",
   "metadata": {},
   "outputs": [
    {
     "name": "stdout",
     "output_type": "stream",
     "text": [
      "               Country or Area  Year  GDP_Per_Capita  Internet_Users_Pct\n",
      "Bottom Country                                                          \n",
      "2132                   Myanmar  2004      1696.88176            0.024337\n",
      "            Country or Area  Year  GDP_Per_Capita  Internet_Users_Pct\n",
      "Top Country                                                          \n",
      "2985                 Sweden  2004    44496.023401               83.89\n"
     ]
    }
   ],
   "source": [
    "sorted_df = df_2004.sort_values(by='Internet_Users_Pct')\n",
    "index = sorted_df.index\n",
    "index.name = 'Bottom Country'\n",
    "print(sorted_df.head(1))\n",
    "\n",
    "index.name = 'Top Country'\n",
    "print(sorted_df.tail(1))"
   ]
  },
  {
   "cell_type": "markdown",
   "id": "83880921",
   "metadata": {},
   "source": [
    "#### 2009"
   ]
  },
  {
   "cell_type": "code",
   "execution_count": 191,
   "id": "9fa6cfdb",
   "metadata": {},
   "outputs": [
    {
     "name": "stdout",
     "output_type": "stream",
     "text": [
      "               Country or Area  Year  GDP_Per_Capita  Internet_Users_Pct\n",
      "Bottom Country                                                          \n",
      "3092               Timor-Leste  2009     2724.770973            0.185252\n",
      "            Country or Area  Year  GDP_Per_Capita  Internet_Users_Pct\n",
      "Top Country                                                          \n",
      "1386                Iceland  2009    48177.084123                93.0\n"
     ]
    }
   ],
   "source": [
    "sorted_df = df_2009.sort_values(by='Internet_Users_Pct')\n",
    "index = sorted_df.index\n",
    "index.name = 'Bottom Country'\n",
    "print(sorted_df.head(1))\n",
    "\n",
    "index.name = 'Top Country'\n",
    "print(sorted_df.tail(1))"
   ]
  },
  {
   "cell_type": "markdown",
   "id": "637e6365",
   "metadata": {},
   "source": [
    "## 21. Which country had the highest gdp per capita in 2014? What was the gdp per capita?"
   ]
  },
  {
   "cell_type": "code",
   "execution_count": 194,
   "id": "eacadeb1",
   "metadata": {},
   "outputs": [
    {
     "name": "stdout",
     "output_type": "stream",
     "text": [
      "            Country or Area  Year  GDP_Per_Capita  Internet_Users_Pct\n",
      "Top Country                                                          \n",
      "1798             Luxembourg  2014    108760.91603               94.67\n"
     ]
    }
   ],
   "source": [
    "sorted_df = df_2014.sort_values(by='GDP_Per_Capita')\n",
    "index = sorted_df.index\n",
    "index.name = 'Top Country'\n",
    "print(sorted_df.tail(1))"
   ]
  },
  {
   "cell_type": "markdown",
   "id": "db51e47a",
   "metadata": {},
   "source": [
    "## 22. Which country had the lowest gdp per capita in 2014? What was the gdp per capita?"
   ]
  },
  {
   "cell_type": "code",
   "execution_count": 195,
   "id": "b37fffb6",
   "metadata": {},
   "outputs": [
    {
     "name": "stdout",
     "output_type": "stream",
     "text": [
      "               Country or Area  Year  GDP_Per_Capita  Internet_Users_Pct\n",
      "Bottom Country                                                          \n",
      "540                    Burundi  2014      886.235777                1.38\n"
     ]
    }
   ],
   "source": [
    "sorted_df = df_2014.sort_values(by='GDP_Per_Capita')\n",
    "index = sorted_df.index\n",
    "index.name = 'Bottom Country'\n",
    "print(sorted_df.head(1))"
   ]
  },
  {
   "cell_type": "markdown",
   "id": "900e921e",
   "metadata": {},
   "source": [
    "## 23. Create some scatterplots:"
   ]
  },
  {
   "cell_type": "markdown",
   "id": "ffe76f74",
   "metadata": {},
   "source": [
    "### a. 2004 Percent Using the Internet vs GDP Per Capita"
   ]
  },
  {
   "cell_type": "code",
   "execution_count": 219,
   "id": "fc352c99",
   "metadata": {},
   "outputs": [
    {
     "data": {
      "text/plain": [
       "([<matplotlib.axis.YTick at 0x1893b044b80>,\n",
       "  <matplotlib.axis.YTick at 0x1893b044520>,\n",
       "  <matplotlib.axis.YTick at 0x1893b03e490>,\n",
       "  <matplotlib.axis.YTick at 0x1893b071b50>,\n",
       "  <matplotlib.axis.YTick at 0x1893b06a8e0>,\n",
       "  <matplotlib.axis.YTick at 0x1893b075970>],\n",
       " [Text(0, 0, '0'),\n",
       "  Text(0, 20000, '$20k'),\n",
       "  Text(0, 40000, '$40k'),\n",
       "  Text(0, 60000, '$60k'),\n",
       "  Text(0, 80000, '$80k'),\n",
       "  Text(0, 100000, '$100k')])"
      ]
     },
     "execution_count": 219,
     "metadata": {},
     "output_type": "execute_result"
    },
    {
     "data": {
      "image/png": "[encoded data removed]",
      "text/plain": [
       "<Figure size 432x288 with 1 Axes>"
      ]
     },
     "metadata": {
      "needs_background": "light"
     },
     "output_type": "display_data"
    }
   ],
   "source": [
    "plt.scatter(df_2004['Internet_Users_Pct'],df_2004['GDP_Per_Capita'])\n",
    "plt.xlabel('Percentage of Internet Users')\n",
    "plt.ylabel('GDP Per Capita')\n",
    "plt.title('2004')\n",
    "\n",
    "tick_val = [0,20,40,60,80,100]\n",
    "tick_lab = ['0', '20%', '40%','60%','80%','100%']\n",
    "plt.xticks(tick_val,tick_lab)\n",
    "\n",
    "tick_val = [0,20000,40000,60000,80000,100000]\n",
    "tick_lab = ['0', '$20k', '$40k','$60k','$80k','$100k']\n",
    "plt.yticks(tick_val,tick_lab)"
   ]
  },
  {
   "cell_type": "markdown",
   "id": "404e2f69",
   "metadata": {},
   "source": [
    "### b. 2009 Percent Using the Internet vs GDP Per Capita"
   ]
  },
  {
   "cell_type": "code",
   "execution_count": 220,
   "id": "2503e696",
   "metadata": {},
   "outputs": [
    {
     "data": {
      "text/plain": [
       "([<matplotlib.axis.YTick at 0x1893b09a280>,\n",
       "  <matplotlib.axis.YTick at 0x1893b092ac0>,\n",
       "  <matplotlib.axis.YTick at 0x1893b08da30>,\n",
       "  <matplotlib.axis.YTick at 0x1893b0c1910>,\n",
       "  <matplotlib.axis.YTick at 0x1893b0c64f0>,\n",
       "  <matplotlib.axis.YTick at 0x1893b0cd040>],\n",
       " [Text(0, 0, '0'),\n",
       "  Text(0, 20000, '$20k'),\n",
       "  Text(0, 40000, '$40k'),\n",
       "  Text(0, 60000, '$60k'),\n",
       "  Text(0, 80000, '$80k'),\n",
       "  Text(0, 100000, '$100k')])"
      ]
     },
     "execution_count": 220,
     "metadata": {},
     "output_type": "execute_result"
    },
    {
     "data": {
      "image/png": "[encoded data removed]",
      "text/plain": [
       "<Figure size 432x288 with 1 Axes>"
      ]
     },
     "metadata": {
      "needs_background": "light"
     },
     "output_type": "display_data"
    }
   ],
   "source": [
    "plt.scatter(df_2009['Internet_Users_Pct'],df_2009['GDP_Per_Capita'])\n",
    "plt.xlabel('Percentage of Internet Users')\n",
    "plt.ylabel('GDP Per Capita')\n",
    "plt.title('2009')\n",
    "\n",
    "tick_val = [0,20,40,60,80,100]\n",
    "tick_lab = ['0', '20%', '40%','60%','80%','100%']\n",
    "plt.xticks(tick_val,tick_lab)\n",
    "\n",
    "tick_val = [0,20000,40000,60000,80000,100000]\n",
    "tick_lab = ['0', '$20k', '$40k','$60k','$80k','$100k']\n",
    "plt.yticks(tick_val,tick_lab)"
   ]
  },
  {
   "cell_type": "markdown",
   "id": "7e233f71",
   "metadata": {},
   "source": [
    "### c. 2014 Percent Using the Internet vs GDP Per Capita"
   ]
  },
  {
   "cell_type": "code",
   "execution_count": 221,
   "id": "98df4bed",
   "metadata": {},
   "outputs": [
    {
     "data": {
      "text/plain": [
       "([<matplotlib.axis.YTick at 0x1893b0ed760>,\n",
       "  <matplotlib.axis.YTick at 0x1893b0e6fa0>,\n",
       "  <matplotlib.axis.YTick at 0x1893b0e62e0>,\n",
       "  <matplotlib.axis.YTick at 0x1893b11f850>,\n",
       "  <matplotlib.axis.YTick at 0x1893b11a550>,\n",
       "  <matplotlib.axis.YTick at 0x1893b125580>],\n",
       " [Text(0, 0, '0'),\n",
       "  Text(0, 20000, '$20k'),\n",
       "  Text(0, 40000, '$40k'),\n",
       "  Text(0, 60000, '$60k'),\n",
       "  Text(0, 80000, '$80k'),\n",
       "  Text(0, 100000, '$100k')])"
      ]
     },
     "execution_count": 221,
     "metadata": {},
     "output_type": "execute_result"
    },
    {
     "data": {
      "image/png": "[encoded data removed]",
      "text/plain": [
       "<Figure size 432x288 with 1 Axes>"
      ]
     },
     "metadata": {
      "needs_background": "light"
     },
     "output_type": "display_data"
    }
   ],
   "source": [
    "plt.scatter(df_2014['Internet_Users_Pct'],df_2014['GDP_Per_Capita'])\n",
    "plt.xlabel('Percentage of Internet Users')\n",
    "plt.ylabel('GDP Per Capita')\n",
    "plt.title('2014')\n",
    "\n",
    "tick_val = [0,20,40,60,80,100]\n",
    "tick_lab = ['0', '20%', '40%','60%','80%','100%']\n",
    "plt.xticks(tick_val,tick_lab)\n",
    "\n",
    "tick_val = [0,20000,40000,60000,80000,100000]\n",
    "tick_lab = ['0', '$20k', '$40k','$60k','$80k','$100k']\n",
    "plt.yticks(tick_val,tick_lab)"
   ]
  },
  {
   "cell_type": "markdown",
   "id": "9ec83751",
   "metadata": {},
   "source": [
    "## 24. Are there differences across years? What do the plots tell you about any relationship between these two variables? Enter your observations as a markdown cell."
   ]
  },
  {
   "cell_type": "markdown",
   "id": "6fe5517b",
   "metadata": {},
   "source": [
    "DISCUSSION: There are differences throughout the years. There was a very long overall percentage of internet users in 2004 which makes sense has the internet was still relatively new. As the years increase, there is more distribution in precentage of internet use. It is difficult to tell when I have to scroll up and down to see each scatter plot but it does not appear as if there is much change in GDP per capita...other than it looks like 2014 may have more above the $20k mark then the previous years."
   ]
  },
  {
   "cell_type": "markdown",
   "id": "18ae7475",
   "metadata": {},
   "source": [
    "## 25. Look at the distribution of gdp per capita values for 2014. Is it unimodal?"
   ]
  },
  {
   "cell_type": "code",
   "execution_count": 234,
   "id": "d1bca928",
   "metadata": {},
   "outputs": [
    {
     "data": {
      "text/plain": [
       "[<matplotlib.lines.Line2D at 0x1893bc8ddf0>]"
      ]
     },
     "execution_count": 234,
     "metadata": {},
     "output_type": "execute_result"
    },
    {
     "data": {
      "image/png": "[encoded data removed]",
      "text/plain": [
       "<Figure size 432x288 with 1 Axes>"
      ]
     },
     "metadata": {
      "needs_background": "light"
     },
     "output_type": "display_data"
    }
   ],
   "source": [
    "plt.scatter(df_2014['Internet_Users_Pct'],df_2014['GDP_Per_Capita'], color = 'yellowgreen')\n",
    "plt.xlabel('Percentage of Internet Users')\n",
    "plt.ylabel('GDP Per Capita')\n",
    "plt.title('2014')\n",
    "\n",
    "tick_val = [0,20,40,60,80,100]\n",
    "tick_lab = ['0', '20%', '40%','60%','80%','100%']\n",
    "plt.xticks(tick_val,tick_lab)\n",
    "\n",
    "tick_val = [0,20000,40000,60000,80000,100000]\n",
    "tick_lab = ['0', '$20k', '$40k','$60k','$80k','$100k']\n",
    "plt.yticks(tick_val,tick_lab)\n",
    "\n",
    "x = np.array(df_2014['Internet_Users_Pct'])\n",
    "y = np.array(df_2014['GDP_Per_Capita'])\n",
    "\n",
    "z = np.polyfit(x, y, 1)\n",
    "p = np.poly1d(z)\n",
    "plt.plot(x, p(x))"
   ]
  },
  {
   "cell_type": "markdown",
   "id": "f9d335b6",
   "metadata": {},
   "source": [
    "I would like to keep the code above but I misunderstood the question so the below is the work for question 25."
   ]
  },
  {
   "cell_type": "code",
   "execution_count": 241,
   "id": "59bd6beb",
   "metadata": {},
   "outputs": [
    {
     "data": {
      "text/plain": [
       "[<matplotlib.lines.Line2D at 0x1893be79a30>]"
      ]
     },
     "execution_count": 241,
     "metadata": {},
     "output_type": "execute_result"
    },
    {
     "data": {
      "image/png": "[encoded data removed]",
      "text/plain": [
       "<Figure size 432x288 with 1 Axes>"
      ]
     },
     "metadata": {
      "needs_background": "light"
     },
     "output_type": "display_data"
    }
   ],
   "source": [
    "plt.plot(df_2014['GDP_Per_Capita'], color = 'darkkhaki')"
   ]
  },
  {
   "cell_type": "markdown",
   "id": "63f985a8",
   "metadata": {},
   "source": [
    "##### ANSWER: No it is not unimodal because there are multiple peaks. "
   ]
  },
  {
   "cell_type": "markdown",
   "id": "534b4ec9",
   "metadata": {},
   "source": [
    "## 26. Look at the distribution of Internet Use for 2014. Is it unimodal?"
   ]
  },
  {
   "cell_type": "code",
   "execution_count": 240,
   "id": "6f1f8853",
   "metadata": {},
   "outputs": [
    {
     "data": {
      "text/plain": [
       "[<matplotlib.lines.Line2D at 0x1893be35460>]"
      ]
     },
     "execution_count": 240,
     "metadata": {},
     "output_type": "execute_result"
    },
    {
     "data": {
      "image/png": "[encoded data removed]",
      "text/plain": [
       "<Figure size 432x288 with 1 Axes>"
      ]
     },
     "metadata": {
      "needs_background": "light"
     },
     "output_type": "display_data"
    }
   ],
   "source": [
    "plt.plot(df_2014['Internet_Users_Pct'], color = 'orchid')"
   ]
  },
  {
   "cell_type": "markdown",
   "id": "7823c0ec",
   "metadata": {},
   "source": [
    "##### ANSWER: No, it is also not a unimodal because it has multiple peaks and its valley are more extreme too "
   ]
  },
  {
   "cell_type": "markdown",
   "id": "2dfd1481",
   "metadata": {},
   "source": [
    "## 27. What are the top 5 countries in terms of internet use in 2014?"
   ]
  },
  {
   "cell_type": "code",
   "execution_count": 251,
   "id": "cc8cc1d5",
   "metadata": {},
   "outputs": [
    {
     "name": "stdout",
     "output_type": "stream",
     "text": [
      "      Country or Area  Year  GDP_Per_Capita  Internet_Users_Pct\n",
      "Top 5                                                          \n",
      "1381          Iceland  2014    49652.149500               98.16\n",
      "372           Bermuda  2014    77361.104881               96.80\n",
      "2296           Norway  2014    62589.373548               96.30\n",
      "854           Denmark  2014    52214.537753               95.99\n",
      "1798       Luxembourg  2014   108760.916030               94.67\n"
     ]
    }
   ],
   "source": [
    "sorted_top_5 = df_2014.sort_values(by='Internet_Users_Pct', ascending = False)\n",
    "index = sorted_top_5.index\n",
    "index.name = 'Top 5'\n",
    "print(sorted_top_5.head(5))"
   ]
  },
  {
   "cell_type": "markdown",
   "id": "363fc921",
   "metadata": {},
   "source": [
    "## 28. Create a DataFrame called top_5_internet from the combined DataFrame that has all three years for the 5 countries that had the greatest 2014 internet usage. You should have 15 rows. Check that this is true."
   ]
  },
  {
   "cell_type": "code",
   "execution_count": 282,
   "id": "230addef",
   "metadata": {},
   "outputs": [
    {
     "name": "stdout",
     "output_type": "stream",
     "text": [
      "     Country or Area  Year  GDP_Per_Capita  Internet_Users_Pct\n",
      "372          Bermuda  2014    77361.104881           96.800000\n",
      "377          Bermuda  2009    89961.982744           83.250000\n",
      "382          Bermuda  2004    90195.811033           60.990867\n",
      "854          Denmark  2014    52214.537753           95.990000\n",
      "859          Denmark  2009    50274.075696           86.840000\n",
      "864          Denmark  2004    50607.628971           80.930000\n",
      "1381         Iceland  2014    49652.149500           98.160000\n",
      "1386         Iceland  2009    48177.084123           93.000000\n",
      "1391         Iceland  2004    45145.545658           83.880000\n",
      "1798      Luxembourg  2014   108760.916030           94.670000\n",
      "1803      Luxembourg  2009   104932.811953           87.310000\n",
      "1808      Luxembourg  2004   102708.212547           65.880000\n",
      "2296          Norway  2014    62589.373548           96.300000\n",
      "2301          Norway  2009    61886.564498           92.080000\n",
      "2306          Norway  2004    60893.410993           77.690000\n"
     ]
    }
   ],
   "source": [
    "subset = gdp_and_internet_use[gdp_and_internet_use['Country or Area'].isin(['Iceland','Bermuda','Norway','Denmark','Luxembourg'])]\n",
    "subset2 = subset[subset['Year'].isin([2004,2009,2014])]\n",
    "top_5_internet = pd.DataFrame(subset2)\n",
    "print(top_5_internet)"
   ]
  },
  {
   "cell_type": "markdown",
   "id": "c8683f0b",
   "metadata": {},
   "source": [
    "## 29. Create a seaborn FacetGrid to show the internet usage trend across the years 2004, 2009, and 2014 for these 5 countries (those with the highest reported internet use in 2014). Which country had the greatest growth between 2004 and 2014?"
   ]
  },
  {
   "cell_type": "code",
   "execution_count": 334,
   "id": "fa37f9bb",
   "metadata": {},
   "outputs": [
    {
     "data": {
      "text/plain": [
       "<seaborn.axisgrid.FacetGrid at 0x1895dd51040>"
      ]
     },
     "execution_count": 334,
     "metadata": {},
     "output_type": "execute_result"
    },
    {
     "data": {
      "image/png": "[encoded data removed]",
      "text/plain": [
       "<Figure size 1178.12x216 with 5 Axes>"
      ]
     },
     "metadata": {
      "needs_background": "light"
     },
     "output_type": "display_data"
    }
   ],
   "source": [
    "g = sns.FacetGrid(top_5_internet, col = 'Country or Area', hue = 'Country or Area')\n",
    "g.map_dataframe(sns.lineplot, x = 'Year', y = 'Internet_Users_Pct', linewidth = 2.5)\n",
    "g.set_axis_labels('Year','Internet Usage (%)', weight = 'bold')\n",
    "g.set_titles(col_template='{col_name}', weight='bold', size ='16')\n",
    "plt.xticks([2004,2009,2014])\n",
    "plt.yticks([50,60,70,80,90,100])\n",
    "g.add_legend()"
   ]
  },
  {
   "cell_type": "markdown",
   "id": "0477aecf",
   "metadata": {},
   "source": [
    "Bermuda looks to have had the greatest growth between 2004 and 2014 (with Luxembourg a close second)"
   ]
  },
  {
   "cell_type": "markdown",
   "id": "e337c138",
   "metadata": {},
   "source": [
    "## 30. Repeat the steps above to look at the trend for the 5 countries with the lowest 2014 internet usage. Which country has consistently had the least internet use?"
   ]
  },
  {
   "cell_type": "code",
   "execution_count": 349,
   "id": "88403bbb",
   "metadata": {},
   "outputs": [
    {
     "name": "stdout",
     "output_type": "stream",
     "text": [
      "         Country or Area  Year  GDP_Per_Capita  Internet_Users_Pct\n",
      "Bottom 5                                                          \n",
      "3087         Timor-Leste  2014     3264.568070                1.14\n",
      "540              Burundi  2014      886.235777                1.38\n",
      "1261              Guinea  2014     2061.760973                1.72\n",
      "2256               Niger  2014     1127.615541                1.95\n",
      "2728        Sierra Leone  2014     1997.511853                2.10\n",
      "                     Country or Area  Year  GDP_Per_Capita  Internet_Users_Pct\n",
      "Bottom 5: Time-Trend                                                          \n",
      "540                          Burundi  2014      886.235777            1.380000\n",
      "545                          Burundi  2009      831.564131            0.900000\n",
      "550                          Burundi  2004      817.460585            0.349060\n",
      "1261                          Guinea  2014     2061.760973            1.720000\n",
      "1266                          Guinea  2009     1825.576637            0.940000\n",
      "1271                          Guinea  2004     1778.079082            0.508819\n",
      "2256                           Niger  2014     1127.615541            1.950000\n",
      "2261                           Niger  2009      992.409977            0.760000\n",
      "2266                           Niger  2004      929.883920            0.189934\n",
      "2728                    Sierra Leone  2014     1997.511853            2.100000\n",
      "2733                    Sierra Leone  2009     1372.392285            0.260000\n",
      "2738                    Sierra Leone  2004     1237.630244            0.203008\n",
      "3087                     Timor-Leste  2014     3264.568070            1.140000\n",
      "3092                     Timor-Leste  2009     2724.770973            0.185252\n"
     ]
    },
    {
     "data": {
      "text/plain": [
       "<seaborn.axisgrid.FacetGrid at 0x1895ec966a0>"
      ]
     },
     "execution_count": 349,
     "metadata": {},
     "output_type": "execute_result"
    },
    {
     "data": {
      "image/png": "[encoded data removed]",
      "text/plain": [
       "<Figure size 1178.62x216 with 5 Axes>"
      ]
     },
     "metadata": {
      "needs_background": "light"
     },
     "output_type": "display_data"
    }
   ],
   "source": [
    "sorted_bottom_5 = df_2014.sort_values(by='Internet_Users_Pct', ascending = True)\n",
    "index = sorted_bottom_5.index\n",
    "index.name = 'Bottom 5'\n",
    "bottom_five = pd.DataFrame(sorted_bottom_5.head(5))\n",
    "print(bottom_five)\n",
    "\n",
    "subset = gdp_and_internet_use[gdp_and_internet_use['Country or Area'].isin(['Timor-Leste','Burundi','Guinea','Niger','Sierra Leone'])]\n",
    "subset2 = subset[subset['Year'].isin([2004,2009,2014])]\n",
    "bottom_5_internet = pd.DataFrame(subset2)\n",
    "index = bottom_5_internet.index\n",
    "index.name = 'Bottom 5: Time-Trend'\n",
    "print(bottom_5_internet)\n",
    "\n",
    "g = sns.FacetGrid(bottom_5_internet, col = 'Country or Area', hue = 'Country or Area')\n",
    "g.map_dataframe(sns.lineplot, x = 'Year', y = 'Internet_Users_Pct', linewidth = 2.5)\n",
    "g.set_axis_labels('Year','Internet Usage (%)', weight = 'bold')\n",
    "g.set_titles(col_template='{col_name}', weight='bold', size ='16')\n",
    "plt.xticks([2004,2009,2014])\n",
    "plt.yticks([0,0.50,1.00,1.50,2.00,2.50])\n",
    "g.add_legend()"
   ]
  },
  {
   "cell_type": "markdown",
   "id": "dec86a42",
   "metadata": {},
   "source": [
    "I would Burundi has had the lowest internet usage consistently overall the 3 years, because it had a very slight increase whereas the others seemed to have steeper inclines in 2009 going on to 2014."
   ]
  },
  {
   "cell_type": "markdown",
   "id": "6a45407d",
   "metadata": {},
   "source": [
    "## 31. Find the top 5 countries for 2014 in terms of GDP per capita; create a DataFrame to look at 10-year trends (use 2004, 2009, 2014 to look at the 10-year trend) in gdp per capita for the 5 countries with the highest 2014 GDP per capita. Use a seaborn facet grid for this."
   ]
  },
  {
   "cell_type": "code",
   "execution_count": null,
   "id": "f47c342a",
   "metadata": {},
   "outputs": [],
   "source": []
  }
 ],
 "metadata": {
  "kernelspec": {
   "display_name": "Python 3 (ipykernel)",
   "language": "python",
   "name": "python3"
  },
  "language_info": {
   "codemirror_mode": {
    "name": "ipython",
    "version": 3
   },
   "file_extension": ".py",
   "mimetype": "text/x-python",
   "name": "python",
   "nbconvert_exporter": "python",
   "pygments_lexer": "ipython3",
   "version": "3.9.12"
  }
 },
 "nbformat": 4,
 "nbformat_minor": 5
}
